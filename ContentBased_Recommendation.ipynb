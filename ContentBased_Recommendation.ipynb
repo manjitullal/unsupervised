{
  "nbformat": 4,
  "nbformat_minor": 0,
  "metadata": {
    "colab": {
      "name": "ContentBased_Recommendation.ipynb",
      "provenance": [],
      "collapsed_sections": [],
      "authorship_tag": "ABX9TyMPjw9aJemt9ylxQVWILVNo",
      "include_colab_link": true
    },
    "kernelspec": {
      "name": "python3",
      "display_name": "Python 3"
    }
  },
  "cells": [
    {
      "cell_type": "markdown",
      "metadata": {
        "id": "view-in-github",
        "colab_type": "text"
      },
      "source": [
        "<a href=\"https://colab.research.google.com/github/manjitullal/unsupervised/blob/main/ContentBased_Recommendation.ipynb\" target=\"_parent\"><img src=\"https://colab.research.google.com/assets/colab-badge.svg\" alt=\"Open In Colab\"/></a>"
      ]
    },
    {
      "cell_type": "markdown",
      "metadata": {
        "id": "WeRCEy1hcda-"
      },
      "source": [
        "# Content Based"
      ]
    },
    {
      "cell_type": "code",
      "metadata": {
        "colab": {
          "base_uri": "https://localhost:8080/"
        },
        "id": "eeD1iz7ccfi5",
        "outputId": "1f2582b8-da13-44aa-ad88-cd33ae89c25f"
      },
      "source": [
        "from google.colab import drive \n",
        "drive.mount('/content/drive')"
      ],
      "execution_count": null,
      "outputs": [
        {
          "output_type": "stream",
          "text": [
            "Mounted at /content/drive\n"
          ],
          "name": "stdout"
        }
      ]
    },
    {
      "cell_type": "code",
      "metadata": {
        "id": "_HZXthr7dQ4b"
      },
      "source": [
        "!pip install unrar"
      ],
      "execution_count": null,
      "outputs": []
    },
    {
      "cell_type": "code",
      "metadata": {
        "id": "zbVxrhlccq8l"
      },
      "source": [
        "path = '/content/drive/MyDrive/datasets/movies/movie_data_merge.rar'"
      ],
      "execution_count": null,
      "outputs": []
    },
    {
      "cell_type": "code",
      "metadata": {
        "id": "MXhpwYafc6or"
      },
      "source": [
        "!unrar x $path"
      ],
      "execution_count": null,
      "outputs": []
    },
    {
      "cell_type": "code",
      "metadata": {
        "id": "zzYop9YnddBC"
      },
      "source": [
        "import pandas as pd\n",
        "import numpy as np"
      ],
      "execution_count": null,
      "outputs": []
    },
    {
      "cell_type": "code",
      "metadata": {
        "colab": {
          "base_uri": "https://localhost:8080/",
          "height": 661
        },
        "id": "wyRNBAlId5WZ",
        "outputId": "5fca70c6-68ab-420d-e34e-ed4bfd399e00"
      },
      "source": [
        "data = pd.read_pickle('/content/movie_data_merge')\n",
        "data.head()"
      ],
      "execution_count": null,
      "outputs": [
        {
          "output_type": "execute_result",
          "data": {
            "text/html": [
              "<div>\n",
              "<style scoped>\n",
              "    .dataframe tbody tr th:only-of-type {\n",
              "        vertical-align: middle;\n",
              "    }\n",
              "\n",
              "    .dataframe tbody tr th {\n",
              "        vertical-align: top;\n",
              "    }\n",
              "\n",
              "    .dataframe thead th {\n",
              "        text-align: right;\n",
              "    }\n",
              "</style>\n",
              "<table border=\"1\" class=\"dataframe\">\n",
              "  <thead>\n",
              "    <tr style=\"text-align: right;\">\n",
              "      <th></th>\n",
              "      <th>adult</th>\n",
              "      <th>budget</th>\n",
              "      <th>genres</th>\n",
              "      <th>id</th>\n",
              "      <th>imdb_id</th>\n",
              "      <th>original_language</th>\n",
              "      <th>original_title</th>\n",
              "      <th>overview</th>\n",
              "      <th>popularity</th>\n",
              "      <th>production_companies</th>\n",
              "      <th>production_countries</th>\n",
              "      <th>release_date</th>\n",
              "      <th>revenue</th>\n",
              "      <th>runtime</th>\n",
              "      <th>spoken_languages</th>\n",
              "      <th>status</th>\n",
              "      <th>title</th>\n",
              "      <th>vote_average</th>\n",
              "      <th>vote_count</th>\n",
              "      <th>cast</th>\n",
              "      <th>crew</th>\n",
              "      <th>score</th>\n",
              "    </tr>\n",
              "  </thead>\n",
              "  <tbody>\n",
              "    <tr>\n",
              "      <th>314</th>\n",
              "      <td>False</td>\n",
              "      <td>25000000</td>\n",
              "      <td>Drama, Crime</td>\n",
              "      <td>278.0</td>\n",
              "      <td>tt0111161</td>\n",
              "      <td>en</td>\n",
              "      <td>The Shawshank Redemption</td>\n",
              "      <td>Framed in the 1940s for the double murder of h...</td>\n",
              "      <td>51.6454</td>\n",
              "      <td>Castle Rock Entertainment, Warner Bros</td>\n",
              "      <td>United States of America</td>\n",
              "      <td>1994-09-23</td>\n",
              "      <td>2.834147e+07</td>\n",
              "      <td>142.0</td>\n",
              "      <td>English</td>\n",
              "      <td>Released</td>\n",
              "      <td>The Shawshank Redemption</td>\n",
              "      <td>8.5</td>\n",
              "      <td>8358.0</td>\n",
              "      <td>[{'cast_id': 3, 'character': 'Andy Dufresne', ...</td>\n",
              "      <td>[{'credit_id': '52fe4231c3a36847f800b127', 'de...</td>\n",
              "      <td>8.445870</td>\n",
              "    </tr>\n",
              "    <tr>\n",
              "      <th>837</th>\n",
              "      <td>False</td>\n",
              "      <td>6000000</td>\n",
              "      <td>Drama, Crime</td>\n",
              "      <td>238.0</td>\n",
              "      <td>tt0068646</td>\n",
              "      <td>en</td>\n",
              "      <td>The Godfather</td>\n",
              "      <td>Spanning the years 1945 to 1955, a chronicle o...</td>\n",
              "      <td>41.1093</td>\n",
              "      <td>Paramount Pictures, Alfran Productions</td>\n",
              "      <td>United States of America</td>\n",
              "      <td>1972-03-14</td>\n",
              "      <td>2.450664e+08</td>\n",
              "      <td>175.0</td>\n",
              "      <td>English, Italiano, Latin</td>\n",
              "      <td>Released</td>\n",
              "      <td>The Godfather</td>\n",
              "      <td>8.5</td>\n",
              "      <td>6024.0</td>\n",
              "      <td>[{'cast_id': 5, 'character': 'Don Vito Corleon...</td>\n",
              "      <td>[{'credit_id': '52fe422bc3a36847f80093db', 'de...</td>\n",
              "      <td>8.425439</td>\n",
              "    </tr>\n",
              "    <tr>\n",
              "      <th>10345</th>\n",
              "      <td>False</td>\n",
              "      <td>13200000</td>\n",
              "      <td>Comedy, Drama, Romance</td>\n",
              "      <td>19404.0</td>\n",
              "      <td>tt0112870</td>\n",
              "      <td>hi</td>\n",
              "      <td>Dilwale Dulhania Le Jayenge</td>\n",
              "      <td>Raj is a rich, carefree, happy-go-lucky second...</td>\n",
              "      <td>34.457</td>\n",
              "      <td>Yash Raj Films</td>\n",
              "      <td>India</td>\n",
              "      <td>1995-10-20</td>\n",
              "      <td>1.000000e+08</td>\n",
              "      <td>190.0</td>\n",
              "      <td>हिन</td>\n",
              "      <td>Released</td>\n",
              "      <td>Dilwale Dulhania Le Jayenge</td>\n",
              "      <td>9.1</td>\n",
              "      <td>661.0</td>\n",
              "      <td>[{'cast_id': 1, 'character': 'Raj Malhotra', '...</td>\n",
              "      <td>[{'credit_id': '57a3054a9251417c57000d7a', 'de...</td>\n",
              "      <td>8.421458</td>\n",
              "    </tr>\n",
              "    <tr>\n",
              "      <th>12525</th>\n",
              "      <td>False</td>\n",
              "      <td>185000000</td>\n",
              "      <td>Drama, Action, Crime, Thriller</td>\n",
              "      <td>155.0</td>\n",
              "      <td>tt0468569</td>\n",
              "      <td>en</td>\n",
              "      <td>The Dark Knight</td>\n",
              "      <td>Batman raises the stakes in his war on crime. ...</td>\n",
              "      <td>123.167</td>\n",
              "      <td>DC Comics, Legendary Pictures, Warner Bros, D...</td>\n",
              "      <td>United Kingdom, United States of America</td>\n",
              "      <td>2008-07-16</td>\n",
              "      <td>1.004558e+09</td>\n",
              "      <td>152.0</td>\n",
              "      <td>English, 普通话</td>\n",
              "      <td>Released</td>\n",
              "      <td>The Dark Knight</td>\n",
              "      <td>8.3</td>\n",
              "      <td>12269.0</td>\n",
              "      <td>[{'cast_id': 35, 'character': 'Bruce Wayne / B...</td>\n",
              "      <td>[{'credit_id': '55a0eb4a925141296b0010f8', 'de...</td>\n",
              "      <td>8.265477</td>\n",
              "    </tr>\n",
              "    <tr>\n",
              "      <th>2854</th>\n",
              "      <td>False</td>\n",
              "      <td>63000000</td>\n",
              "      <td>Drama</td>\n",
              "      <td>550.0</td>\n",
              "      <td>tt0137523</td>\n",
              "      <td>en</td>\n",
              "      <td>Fight Club</td>\n",
              "      <td>A ticking-time-bomb insomniac and a slippery s...</td>\n",
              "      <td>63.8696</td>\n",
              "      <td>Twentieth Century Fox Film Corporation, Regen...</td>\n",
              "      <td>Germany, United States of America</td>\n",
              "      <td>1999-10-15</td>\n",
              "      <td>1.008538e+08</td>\n",
              "      <td>139.0</td>\n",
              "      <td>English</td>\n",
              "      <td>Released</td>\n",
              "      <td>Fight Club</td>\n",
              "      <td>8.3</td>\n",
              "      <td>9678.0</td>\n",
              "      <td>[{'cast_id': 4, 'character': 'The Narrator', '...</td>\n",
              "      <td>[{'credit_id': '55731b8192514111610027d7', 'de...</td>\n",
              "      <td>8.256385</td>\n",
              "    </tr>\n",
              "  </tbody>\n",
              "</table>\n",
              "</div>"
            ],
            "text/plain": [
              "       adult  ...     score\n",
              "314    False  ...  8.445870\n",
              "837    False  ...  8.425439\n",
              "10345  False  ...  8.421458\n",
              "12525  False  ...  8.265477\n",
              "2854   False  ...  8.256385\n",
              "\n",
              "[5 rows x 22 columns]"
            ]
          },
          "metadata": {
            "tags": []
          },
          "execution_count": 16
        }
      ]
    },
    {
      "cell_type": "code",
      "metadata": {
        "colab": {
          "base_uri": "https://localhost:8080/"
        },
        "id": "cKDZSZapeM7X",
        "outputId": "5701428c-6bb6-452a-a939-a64260f44dc0"
      },
      "source": [
        "# select random 10000 indices \n",
        "\n",
        "random_indices = np.random.choice(data.shape[0], size=10000, replace=False)\n",
        "small_data = data.loc[random_indices]\n",
        "small_data.reset_index(drop=True, inplace=True)\n",
        "small_data.shape"
      ],
      "execution_count": null,
      "outputs": [
        {
          "output_type": "execute_result",
          "data": {
            "text/plain": [
              "(10000, 22)"
            ]
          },
          "metadata": {
            "tags": []
          },
          "execution_count": 27
        }
      ]
    },
    {
      "cell_type": "code",
      "metadata": {
        "colab": {
          "base_uri": "https://localhost:8080/",
          "height": 644
        },
        "id": "uYPOYq0JevXQ",
        "outputId": "ac4f7a3e-3f44-478f-da4b-c32e54a24a2b"
      },
      "source": [
        "small_data.head()"
      ],
      "execution_count": null,
      "outputs": [
        {
          "output_type": "execute_result",
          "data": {
            "text/html": [
              "<div>\n",
              "<style scoped>\n",
              "    .dataframe tbody tr th:only-of-type {\n",
              "        vertical-align: middle;\n",
              "    }\n",
              "\n",
              "    .dataframe tbody tr th {\n",
              "        vertical-align: top;\n",
              "    }\n",
              "\n",
              "    .dataframe thead th {\n",
              "        text-align: right;\n",
              "    }\n",
              "</style>\n",
              "<table border=\"1\" class=\"dataframe\">\n",
              "  <thead>\n",
              "    <tr style=\"text-align: right;\">\n",
              "      <th></th>\n",
              "      <th>adult</th>\n",
              "      <th>budget</th>\n",
              "      <th>genres</th>\n",
              "      <th>id</th>\n",
              "      <th>imdb_id</th>\n",
              "      <th>original_language</th>\n",
              "      <th>original_title</th>\n",
              "      <th>overview</th>\n",
              "      <th>popularity</th>\n",
              "      <th>production_companies</th>\n",
              "      <th>production_countries</th>\n",
              "      <th>release_date</th>\n",
              "      <th>revenue</th>\n",
              "      <th>runtime</th>\n",
              "      <th>spoken_languages</th>\n",
              "      <th>status</th>\n",
              "      <th>title</th>\n",
              "      <th>vote_average</th>\n",
              "      <th>vote_count</th>\n",
              "      <th>cast</th>\n",
              "      <th>crew</th>\n",
              "      <th>score</th>\n",
              "    </tr>\n",
              "  </thead>\n",
              "  <tbody>\n",
              "    <tr>\n",
              "      <th>0</th>\n",
              "      <td>False</td>\n",
              "      <td>0</td>\n",
              "      <td>Horror, Thriller</td>\n",
              "      <td>27324.0</td>\n",
              "      <td>tt0286751</td>\n",
              "      <td>ja</td>\n",
              "      <td>回路</td>\n",
              "      <td>After one of their friends commits suicide, st...</td>\n",
              "      <td>4.12232</td>\n",
              "      <td>Kadokawa Pictures, Nippon Television Network ...</td>\n",
              "      <td>Japan</td>\n",
              "      <td>2001-02-10</td>\n",
              "      <td>0.0</td>\n",
              "      <td>118.0</td>\n",
              "      <td>日本語</td>\n",
              "      <td>Released</td>\n",
              "      <td>Pulse</td>\n",
              "      <td>6.1</td>\n",
              "      <td>89.0</td>\n",
              "      <td>[{'cast_id': 18, 'character': 'Ryosuke Kawashi...</td>\n",
              "      <td>[{'credit_id': '52fe4541c3a368484e04fc75', 'de...</td>\n",
              "      <td>5.790430</td>\n",
              "    </tr>\n",
              "    <tr>\n",
              "      <th>1</th>\n",
              "      <td>False</td>\n",
              "      <td>2700000</td>\n",
              "      <td>Drama</td>\n",
              "      <td>352205.0</td>\n",
              "      <td>tt3043252</td>\n",
              "      <td>hi</td>\n",
              "      <td>Parched</td>\n",
              "      <td>In a rural Indian village, four ordinary women...</td>\n",
              "      <td>3.322681</td>\n",
              "      <td>Blue Waters Motion Pictures, Shivalaya Entert...</td>\n",
              "      <td>India, United Kingdom, United States of America</td>\n",
              "      <td>2015-11-14</td>\n",
              "      <td>0.0</td>\n",
              "      <td>116.0</td>\n",
              "      <td>English, हिन</td>\n",
              "      <td>Released</td>\n",
              "      <td>Parched</td>\n",
              "      <td>8.5</td>\n",
              "      <td>23.0</td>\n",
              "      <td>[{'cast_id': 4, 'character': 'Lajjo', 'credit_...</td>\n",
              "      <td>[{'credit_id': '55b9364292514123dd0029ae', 'de...</td>\n",
              "      <td>5.980422</td>\n",
              "    </tr>\n",
              "    <tr>\n",
              "      <th>2</th>\n",
              "      <td>False</td>\n",
              "      <td>0</td>\n",
              "      <td>Comedy, Foreign, Romance</td>\n",
              "      <td>24681.0</td>\n",
              "      <td>tt1213929</td>\n",
              "      <td>en</td>\n",
              "      <td>White Wedding</td>\n",
              "      <td>The loyal, committed and very decent Elvis (Ke...</td>\n",
              "      <td>0.35292</td>\n",
              "      <td></td>\n",
              "      <td>South Africa</td>\n",
              "      <td>2009-01-01</td>\n",
              "      <td>0.0</td>\n",
              "      <td>93.0</td>\n",
              "      <td>Afrikaans, , isiZulu, English</td>\n",
              "      <td>Released</td>\n",
              "      <td>White Wedding</td>\n",
              "      <td>2.5</td>\n",
              "      <td>2.0</td>\n",
              "      <td>[{'cast_id': 1000, 'character': 'Tony', 'credi...</td>\n",
              "      <td>[{'credit_id': '52fe44a3c3a368484e02e733', 'de...</td>\n",
              "      <td>5.579735</td>\n",
              "    </tr>\n",
              "    <tr>\n",
              "      <th>3</th>\n",
              "      <td>False</td>\n",
              "      <td>0</td>\n",
              "      <td>Comedy, Music</td>\n",
              "      <td>43257.0</td>\n",
              "      <td>tt0049034</td>\n",
              "      <td>en</td>\n",
              "      <td>Bundle of Joy</td>\n",
              "      <td>Kitschy musical remake of \"Bachelor Mother\". D...</td>\n",
              "      <td>0.441986</td>\n",
              "      <td>Edmund Grainger Productions</td>\n",
              "      <td>United States of America</td>\n",
              "      <td>1956-12-12</td>\n",
              "      <td>0.0</td>\n",
              "      <td>98.0</td>\n",
              "      <td>English</td>\n",
              "      <td>Released</td>\n",
              "      <td>Bundle of Joy</td>\n",
              "      <td>7.0</td>\n",
              "      <td>5.0</td>\n",
              "      <td>[{'cast_id': 2, 'character': 'Dan Merlin', 'cr...</td>\n",
              "      <td>[{'credit_id': '52fe4639c3a36847f80f33f3', 'de...</td>\n",
              "      <td>5.660104</td>\n",
              "    </tr>\n",
              "    <tr>\n",
              "      <th>4</th>\n",
              "      <td>False</td>\n",
              "      <td>16800000</td>\n",
              "      <td>Drama, Mystery, Romance</td>\n",
              "      <td>18615.0</td>\n",
              "      <td>tt0422295</td>\n",
              "      <td>en</td>\n",
              "      <td>Fur: An Imaginary Portrait of Diane Arbus</td>\n",
              "      <td>In 1958 New York Diane Arbus is a housewife an...</td>\n",
              "      <td>5.10832</td>\n",
              "      <td>River Road Entertainment, Edward R, Iron Film</td>\n",
              "      <td>United States of America</td>\n",
              "      <td>2006-08-30</td>\n",
              "      <td>2281089.0</td>\n",
              "      <td>122.0</td>\n",
              "      <td>English</td>\n",
              "      <td>Released</td>\n",
              "      <td>Fur: An Imaginary Portrait of Diane Arbus</td>\n",
              "      <td>5.8</td>\n",
              "      <td>73.0</td>\n",
              "      <td>[{'cast_id': 5, 'character': 'Diane Arbus', 'c...</td>\n",
              "      <td>[{'credit_id': '564c55309251417c46005e72', 'de...</td>\n",
              "      <td>5.675181</td>\n",
              "    </tr>\n",
              "  </tbody>\n",
              "</table>\n",
              "</div>"
            ],
            "text/plain": [
              "   adult    budget  ...                                               crew     score\n",
              "0  False         0  ...  [{'credit_id': '52fe4541c3a368484e04fc75', 'de...  5.790430\n",
              "1  False   2700000  ...  [{'credit_id': '55b9364292514123dd0029ae', 'de...  5.980422\n",
              "2  False         0  ...  [{'credit_id': '52fe44a3c3a368484e02e733', 'de...  5.579735\n",
              "3  False         0  ...  [{'credit_id': '52fe4639c3a36847f80f33f3', 'de...  5.660104\n",
              "4  False  16800000  ...  [{'credit_id': '564c55309251417c46005e72', 'de...  5.675181\n",
              "\n",
              "[5 rows x 22 columns]"
            ]
          },
          "metadata": {
            "tags": []
          },
          "execution_count": 28
        }
      ]
    },
    {
      "cell_type": "code",
      "metadata": {
        "id": "tQEpab1Lfo8V"
      },
      "source": [
        "from sklearn.feature_extraction.text import TfidfVectorizer\n",
        "\n",
        "tfv = TfidfVectorizer(min_df=3,  max_features=None, \n",
        "            strip_accents='unicode', analyzer='word',token_pattern=r'\\w{1,}',\n",
        "            stop_words = 'english')\n",
        "\n",
        "small_data['overview'] = small_data['overview'].fillna('')"
      ],
      "execution_count": null,
      "outputs": []
    },
    {
      "cell_type": "code",
      "metadata": {
        "colab": {
          "base_uri": "https://localhost:8080/"
        },
        "id": "hkjPGnqef_dH",
        "outputId": "9f872c3d-8099-4dbd-d143-d9722c6ef273"
      },
      "source": [
        "tfv_matrix = tfv.fit_transform(small_data['overview'])\n",
        "tfv_matrix.shape"
      ],
      "execution_count": null,
      "outputs": [
        {
          "output_type": "execute_result",
          "data": {
            "text/plain": [
              "(10000, 12481)"
            ]
          },
          "metadata": {
            "tags": []
          },
          "execution_count": 32
        }
      ]
    },
    {
      "cell_type": "code",
      "metadata": {
        "id": "UAkAB1o_gFG3"
      },
      "source": [
        "from sklearn import preprocessing\n",
        "\n",
        "similarity_matrix = np.dot(preprocessing.normalize(tfv_matrix, axis=1), preprocessing.normalize(tfv_matrix, axis=1).T)\n",
        "similarity_matrix = similarity_matrix.toarray()"
      ],
      "execution_count": null,
      "outputs": []
    },
    {
      "cell_type": "code",
      "metadata": {
        "id": "ZZ6E6a0rgcjO"
      },
      "source": [
        "indices = pd.Series(small_data.index, index=small_data['original_title']).drop_duplicates()"
      ],
      "execution_count": null,
      "outputs": []
    },
    {
      "cell_type": "code",
      "metadata": {
        "colab": {
          "base_uri": "https://localhost:8080/"
        },
        "id": "_WyZpc62g3wl",
        "outputId": "485b671a-808c-45d4-91f3-4c3f03d88949"
      },
      "source": [
        "small_data.columns"
      ],
      "execution_count": null,
      "outputs": [
        {
          "output_type": "execute_result",
          "data": {
            "text/plain": [
              "Index(['adult', 'budget', 'genres', 'id', 'imdb_id', 'original_language',\n",
              "       'original_title', 'overview', 'popularity', 'production_companies',\n",
              "       'production_countries', 'release_date', 'revenue', 'runtime',\n",
              "       'spoken_languages', 'status', 'title', 'vote_average', 'vote_count',\n",
              "       'cast', 'crew', 'score'],\n",
              "      dtype='object')"
            ]
          },
          "metadata": {
            "tags": []
          },
          "execution_count": 35
        }
      ]
    },
    {
      "cell_type": "code",
      "metadata": {
        "colab": {
          "base_uri": "https://localhost:8080/",
          "height": 201
        },
        "id": "yV7ThInVg5Ze",
        "outputId": "b29bdb61-ef0e-4979-dfd1-c2683fda5ee2"
      },
      "source": [
        "small_data[['adult','budget','genres','original_title','revenue','vote_count','score']].loc[20:,].head()"
      ],
      "execution_count": null,
      "outputs": [
        {
          "output_type": "execute_result",
          "data": {
            "text/html": [
              "<div>\n",
              "<style scoped>\n",
              "    .dataframe tbody tr th:only-of-type {\n",
              "        vertical-align: middle;\n",
              "    }\n",
              "\n",
              "    .dataframe tbody tr th {\n",
              "        vertical-align: top;\n",
              "    }\n",
              "\n",
              "    .dataframe thead th {\n",
              "        text-align: right;\n",
              "    }\n",
              "</style>\n",
              "<table border=\"1\" class=\"dataframe\">\n",
              "  <thead>\n",
              "    <tr style=\"text-align: right;\">\n",
              "      <th></th>\n",
              "      <th>adult</th>\n",
              "      <th>budget</th>\n",
              "      <th>genres</th>\n",
              "      <th>original_title</th>\n",
              "      <th>revenue</th>\n",
              "      <th>vote_count</th>\n",
              "      <th>score</th>\n",
              "    </tr>\n",
              "  </thead>\n",
              "  <tbody>\n",
              "    <tr>\n",
              "      <th>20</th>\n",
              "      <td>False</td>\n",
              "      <td>6500000</td>\n",
              "      <td>Action, Adventure, Drama, Family</td>\n",
              "      <td>The Adventures of Huck Finn</td>\n",
              "      <td>0.0</td>\n",
              "      <td>43.0</td>\n",
              "      <td>5.741464</td>\n",
              "    </tr>\n",
              "    <tr>\n",
              "      <th>21</th>\n",
              "      <td>False</td>\n",
              "      <td>0</td>\n",
              "      <td>Horror, Thriller</td>\n",
              "      <td>The Cradle</td>\n",
              "      <td>0.0</td>\n",
              "      <td>2.0</td>\n",
              "      <td>5.599489</td>\n",
              "    </tr>\n",
              "    <tr>\n",
              "      <th>22</th>\n",
              "      <td>False</td>\n",
              "      <td>1000000</td>\n",
              "      <td>Horror, Adventure, Thriller</td>\n",
              "      <td>The Snake King</td>\n",
              "      <td>0.0</td>\n",
              "      <td>7.0</td>\n",
              "      <td>5.525252</td>\n",
              "    </tr>\n",
              "    <tr>\n",
              "      <th>23</th>\n",
              "      <td>False</td>\n",
              "      <td>0</td>\n",
              "      <td>Comedy, Drama</td>\n",
              "      <td>Bank Holiday</td>\n",
              "      <td>0.0</td>\n",
              "      <td>3.0</td>\n",
              "      <td>5.625259</td>\n",
              "    </tr>\n",
              "    <tr>\n",
              "      <th>24</th>\n",
              "      <td>False</td>\n",
              "      <td>0</td>\n",
              "      <td>Comedy</td>\n",
              "      <td>Her Crowning Glory</td>\n",
              "      <td>0.0</td>\n",
              "      <td>4.0</td>\n",
              "      <td>5.634861</td>\n",
              "    </tr>\n",
              "  </tbody>\n",
              "</table>\n",
              "</div>"
            ],
            "text/plain": [
              "    adult   budget  ... vote_count     score\n",
              "20  False  6500000  ...       43.0  5.741464\n",
              "21  False        0  ...        2.0  5.599489\n",
              "22  False  1000000  ...        7.0  5.525252\n",
              "23  False        0  ...        3.0  5.625259\n",
              "24  False        0  ...        4.0  5.634861\n",
              "\n",
              "[5 rows x 7 columns]"
            ]
          },
          "metadata": {
            "tags": []
          },
          "execution_count": 40
        }
      ]
    },
    {
      "cell_type": "code",
      "metadata": {
        "colab": {
          "base_uri": "https://localhost:8080/"
        },
        "id": "11HZ5mgZiETa",
        "outputId": "5d5cf719-82c6-404d-8ea4-7f59979dbb41"
      },
      "source": [
        "import pprint\n",
        "\n",
        "movie_overview = small_data[small_data.original_title == 'The Irish Pub'].overview.tolist()\n",
        "pprint.pprint(movie_overview, depth=1)"
      ],
      "execution_count": null,
      "outputs": [
        {
          "output_type": "stream",
          "text": [
            "['The tradition of the Irish pub. Speaking to pub owners all over Ireland, '\n",
            " 'Alex Fegan gets into the heart of what makes \"the Irish pub\" the institution '\n",
            " 'that it is.']\n"
          ],
          "name": "stdout"
        }
      ]
    },
    {
      "cell_type": "code",
      "metadata": {
        "id": "QTc5qpF6grLe"
      },
      "source": [
        "def recommendation(title, similarity_matrix):\n",
        "    idx = indices[title]\n",
        "    sig_scores = list(enumerate(similarity_matrix[idx]))\n",
        "    sig_scores = sorted(sig_scores, key=lambda x: x[1], reverse=True)\n",
        "    sig_scores = sig_scores[1:11]\n",
        "    movie_indices = [i[0] for i in sig_scores]\n",
        "    return small_data[['adult','budget','genres','original_title','revenue','vote_count','score']].iloc[movie_indices]"
      ],
      "execution_count": null,
      "outputs": []
    },
    {
      "cell_type": "code",
      "metadata": {
        "colab": {
          "base_uri": "https://localhost:8080/",
          "height": 353
        },
        "id": "fFzBZjNHhR4m",
        "outputId": "daa5c065-94fe-48f1-c691-fd509c273a0c"
      },
      "source": [
        "recommendation('The Irish Pub', similarity_matrix)"
      ],
      "execution_count": null,
      "outputs": [
        {
          "output_type": "execute_result",
          "data": {
            "text/html": [
              "<div>\n",
              "<style scoped>\n",
              "    .dataframe tbody tr th:only-of-type {\n",
              "        vertical-align: middle;\n",
              "    }\n",
              "\n",
              "    .dataframe tbody tr th {\n",
              "        vertical-align: top;\n",
              "    }\n",
              "\n",
              "    .dataframe thead th {\n",
              "        text-align: right;\n",
              "    }\n",
              "</style>\n",
              "<table border=\"1\" class=\"dataframe\">\n",
              "  <thead>\n",
              "    <tr style=\"text-align: right;\">\n",
              "      <th></th>\n",
              "      <th>adult</th>\n",
              "      <th>budget</th>\n",
              "      <th>genres</th>\n",
              "      <th>original_title</th>\n",
              "      <th>revenue</th>\n",
              "      <th>vote_count</th>\n",
              "      <th>score</th>\n",
              "    </tr>\n",
              "  </thead>\n",
              "  <tbody>\n",
              "    <tr>\n",
              "      <th>7007</th>\n",
              "      <td>False</td>\n",
              "      <td>0</td>\n",
              "      <td>Comedy</td>\n",
              "      <td>Last Call</td>\n",
              "      <td>0.0</td>\n",
              "      <td>6.0</td>\n",
              "      <td>5.548898</td>\n",
              "    </tr>\n",
              "    <tr>\n",
              "      <th>944</th>\n",
              "      <td>False</td>\n",
              "      <td>0</td>\n",
              "      <td>Drama, Action, Crime</td>\n",
              "      <td>Ash Wednesday</td>\n",
              "      <td>0.0</td>\n",
              "      <td>14.0</td>\n",
              "      <td>5.608719</td>\n",
              "    </tr>\n",
              "    <tr>\n",
              "      <th>9432</th>\n",
              "      <td>False</td>\n",
              "      <td>0</td>\n",
              "      <td>Drama</td>\n",
              "      <td>Last Night At The Alamo</td>\n",
              "      <td>0.0</td>\n",
              "      <td>2.0</td>\n",
              "      <td>5.598254</td>\n",
              "    </tr>\n",
              "    <tr>\n",
              "      <th>1060</th>\n",
              "      <td>False</td>\n",
              "      <td>0</td>\n",
              "      <td>Comedy, Romance</td>\n",
              "      <td>The Matchmaker</td>\n",
              "      <td>0.0</td>\n",
              "      <td>18.0</td>\n",
              "      <td>5.666950</td>\n",
              "    </tr>\n",
              "    <tr>\n",
              "      <th>2529</th>\n",
              "      <td>False</td>\n",
              "      <td>28000000</td>\n",
              "      <td>Drama, Thriller</td>\n",
              "      <td>Michael Collins</td>\n",
              "      <td>16900000.0</td>\n",
              "      <td>98.0</td>\n",
              "      <td>6.067121</td>\n",
              "    </tr>\n",
              "    <tr>\n",
              "      <th>613</th>\n",
              "      <td>False</td>\n",
              "      <td>0</td>\n",
              "      <td>Comedy</td>\n",
              "      <td>A Night Out</td>\n",
              "      <td>0.0</td>\n",
              "      <td>10.0</td>\n",
              "      <td>5.611277</td>\n",
              "    </tr>\n",
              "    <tr>\n",
              "      <th>3085</th>\n",
              "      <td>False</td>\n",
              "      <td>580000</td>\n",
              "      <td>Documentary</td>\n",
              "      <td>Miesten vuoro</td>\n",
              "      <td>0.0</td>\n",
              "      <td>11.0</td>\n",
              "      <td>5.700685</td>\n",
              "    </tr>\n",
              "    <tr>\n",
              "      <th>4638</th>\n",
              "      <td>False</td>\n",
              "      <td>0</td>\n",
              "      <td>Drama, Thriller, War</td>\n",
              "      <td>I See a Dark Stranger</td>\n",
              "      <td>0.0</td>\n",
              "      <td>6.0</td>\n",
              "      <td>5.599501</td>\n",
              "    </tr>\n",
              "    <tr>\n",
              "      <th>7414</th>\n",
              "      <td>False</td>\n",
              "      <td>0</td>\n",
              "      <td>Documentary, Music</td>\n",
              "      <td>Oil City Confidential</td>\n",
              "      <td>0.0</td>\n",
              "      <td>2.0</td>\n",
              "      <td>5.653810</td>\n",
              "    </tr>\n",
              "    <tr>\n",
              "      <th>6430</th>\n",
              "      <td>False</td>\n",
              "      <td>0</td>\n",
              "      <td>Crime, Mystery, Thriller</td>\n",
              "      <td>La tête d'un homme</td>\n",
              "      <td>0.0</td>\n",
              "      <td>1.0</td>\n",
              "      <td>5.614392</td>\n",
              "    </tr>\n",
              "  </tbody>\n",
              "</table>\n",
              "</div>"
            ],
            "text/plain": [
              "      adult    budget  ... vote_count     score\n",
              "7007  False         0  ...        6.0  5.548898\n",
              "944   False         0  ...       14.0  5.608719\n",
              "9432  False         0  ...        2.0  5.598254\n",
              "1060  False         0  ...       18.0  5.666950\n",
              "2529  False  28000000  ...       98.0  6.067121\n",
              "613   False         0  ...       10.0  5.611277\n",
              "3085  False    580000  ...       11.0  5.700685\n",
              "4638  False         0  ...        6.0  5.599501\n",
              "7414  False         0  ...        2.0  5.653810\n",
              "6430  False         0  ...        1.0  5.614392\n",
              "\n",
              "[10 rows x 7 columns]"
            ]
          },
          "metadata": {
            "tags": []
          },
          "execution_count": 48
        }
      ]
    }
  ]
}