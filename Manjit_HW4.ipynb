{
  "nbformat": 4,
  "nbformat_minor": 0,
  "metadata": {
    "colab": {
      "name": "Manjit-HW4.ipynb",
      "provenance": [],
      "collapsed_sections": [],
      "authorship_tag": "ABX9TyOG2+9NBdwXkkYQm9tTY/0R",
      "include_colab_link": true
    },
    "kernelspec": {
      "name": "python3",
      "display_name": "Python 3"
    }
  },
  "cells": [
    {
      "cell_type": "markdown",
      "metadata": {
        "id": "view-in-github",
        "colab_type": "text"
      },
      "source": [
        "<a href=\"https://colab.research.google.com/github/manjitullal/unsupervised/blob/main/Manjit_HW4.ipynb\" target=\"_parent\"><img src=\"https://colab.research.google.com/assets/colab-badge.svg\" alt=\"Open In Colab\"/></a>"
      ]
    },
    {
      "cell_type": "markdown",
      "metadata": {
        "id": "m2_ZWBjUhFEb"
      },
      "source": [
        "# 1 PageRank\n",
        "\n",
        "In this exercise we will compute the PageRank scores for pages in a dataset provided by\n",
        "Google in a programming contest in 2002. The file web-Google_10k.txt contains data about 10,000 web pages and 78,323 links. The file format is:\n",
        "\n",
        "* The first four rows contain metadata about the data set and are self-explained.\n",
        "* The following rows consist of two values that represent the link from the web page in the first column to the web page in the second column.\n",
        "For example, if the row is 0 11342, this means that there is a directed link from page id\n",
        "0 to page id 11342.\n",
        "\n",
        "Answer the following questions:\n",
        "1. Find all the dead ends. A page is a dead end if it has no out-going links.\n",
        "2. Build the page transition matrix A from the data set and make sure it is a stochastic\n",
        "matrix.\n",
        "3. Implement the PageRank algorithm.\n",
        "4. Run the PageRank algorithm on the matrix A with a damping factor of d = 0:85 and\n",
        "$\\epsilon$ = 0:001. The output format should be two-column: the first column is the web page\n",
        "id and the second column is its PageRank score. Sort the output by descending order\n",
        "of the PageRank scores."
      ]
    },
    {
      "cell_type": "markdown",
      "metadata": {
        "id": "QqbMgAw_pnJO"
      },
      "source": [
        "# Solution:\n",
        "\n",
        "1. The number of deadend nodes are 1235\n",
        "2. transition matrix explained below\n",
        "3. implemented below\n",
        "4. "
      ]
    },
    {
      "cell_type": "code",
      "metadata": {
        "colab": {
          "base_uri": "https://localhost:8080/"
        },
        "id": "M1fRlejfhOpe",
        "outputId": "f6c95df3-857f-4f70-c5f4-86af34c603d5"
      },
      "source": [
        "from google.colab import drive\n",
        "drive.mount('/content/drive')"
      ],
      "execution_count": 1,
      "outputs": [
        {
          "output_type": "stream",
          "text": [
            "Mounted at /content/drive\n"
          ],
          "name": "stdout"
        }
      ]
    },
    {
      "cell_type": "code",
      "metadata": {
        "colab": {
          "base_uri": "https://localhost:8080/"
        },
        "id": "1tK6HBpUhTdJ",
        "outputId": "3d6f7faf-207c-4df8-d409-7225aea951b7"
      },
      "source": [
        "path = '/content/drive/MyDrive/datasets/other/'\n",
        "! ls $path"
      ],
      "execution_count": 2,
      "outputs": [
        {
          "output_type": "stream",
          "text": [
            "web-Google_10k.txt\n"
          ],
          "name": "stdout"
        }
      ]
    },
    {
      "cell_type": "code",
      "metadata": {
        "id": "JkSsDvYMhvGX"
      },
      "source": [
        "with open(path + 'web-Google_10k.txt') as file:\n",
        "  data = file.readlines()"
      ],
      "execution_count": 3,
      "outputs": []
    },
    {
      "cell_type": "code",
      "metadata": {
        "id": "O9fIsKoUOXEQ"
      },
      "source": [
        "sample_graph = [[1, 3],\n",
        "         [1, 2],\n",
        "         [2, 3],\n",
        "         [2, 1],\n",
        "         [3, 2],\n",
        "         [4, 3],\n",
        "         [4, 5],\n",
        "         [4, 6],\n",
        "         [6, 4],\n",
        "         [6, 5]]"
      ],
      "execution_count": 4,
      "outputs": []
    },
    {
      "cell_type": "code",
      "metadata": {
        "id": "mOeKHNUnThVh"
      },
      "source": [
        "sample_graph2 = [['a', 'b'],\n",
        "                 ['a', 'c'],\n",
        "                 ['a', 'd'],\n",
        "                 ['b', 'a'],\n",
        "                 ['b', 'd'],\n",
        "                 ['c', 'c'],\n",
        "                 ['d', 'b'],\n",
        "                 ['d', 'c']]"
      ],
      "execution_count": 5,
      "outputs": []
    },
    {
      "cell_type": "markdown",
      "metadata": {
        "id": "6fPzmaosOLHA"
      },
      "source": [
        "create a 2D list for the graph like above graph"
      ]
    },
    {
      "cell_type": "code",
      "metadata": {
        "id": "xTmF7tFCh_Q_"
      },
      "source": [
        "google_graph = []\n",
        "for i in range(4, len(data)):\n",
        "  row = data[i].strip()\n",
        "  row = row.split('\\t')\n",
        "  google_graph.append(row)"
      ],
      "execution_count": 6,
      "outputs": []
    },
    {
      "cell_type": "code",
      "metadata": {
        "colab": {
          "base_uri": "https://localhost:8080/"
        },
        "id": "v-ReZO-wjz6J",
        "outputId": "29b7a87b-57cc-4854-c9be-898f531f8621"
      },
      "source": [
        "google_graph[0:4]"
      ],
      "execution_count": 7,
      "outputs": [
        {
          "output_type": "execute_result",
          "data": {
            "text/plain": [
              "[['0', '11342'], ['0', '824020'], ['0', '867923'], ['0', '891835']]"
            ]
          },
          "metadata": {
            "tags": []
          },
          "execution_count": 7
        }
      ]
    },
    {
      "cell_type": "code",
      "metadata": {
        "id": "DbwmVskQhIGe"
      },
      "source": [
        "import numpy as np\n",
        "import pandas as pd"
      ],
      "execution_count": 8,
      "outputs": []
    },
    {
      "cell_type": "markdown",
      "metadata": {
        "id": "zJqR_yqEObQ3"
      },
      "source": [
        "create a dictionary which represents the graph, where the key is the node and the values are the list of nodes that have edges going from key"
      ]
    },
    {
      "cell_type": "code",
      "metadata": {
        "id": "2EKMdt0PIS8n"
      },
      "source": [
        "def create_graph(graph):\n",
        "  dict_graph = {}\n",
        "  for node in graph:\n",
        "    if node[0] in dict_graph:\n",
        "      dict_graph[node[0]].extend([node[1]])\n",
        "    else:\n",
        "      dict_graph[node[0]] = [node[1]]\n",
        "  return dict_graph"
      ],
      "execution_count": 9,
      "outputs": []
    },
    {
      "cell_type": "code",
      "metadata": {
        "colab": {
          "base_uri": "https://localhost:8080/"
        },
        "id": "A2jPXfMpkEnd",
        "outputId": "491fd227-0c0b-4e6f-911b-69ffbe586276"
      },
      "source": [
        "dict_sample_graph = create_graph(sample_graph)\n",
        "dict_google_graph = create_graph(google_graph)\n",
        "\n",
        "print(create_graph(sample_graph))"
      ],
      "execution_count": 11,
      "outputs": [
        {
          "output_type": "stream",
          "text": [
            "{1: [3, 2], 2: [3, 1], 3: [2], 4: [3, 5, 6], 6: [4, 5]}\n"
          ],
          "name": "stdout"
        }
      ]
    },
    {
      "cell_type": "code",
      "metadata": {
        "colab": {
          "base_uri": "https://localhost:8080/"
        },
        "id": "l9U5RKfEUYxa",
        "outputId": "c1df22c8-6537-4a13-b230-25d3d32c6b25"
      },
      "source": [
        "dict_sample_graph2 = create_graph(sample_graph2)\n",
        "print(dict_sample_graph2)"
      ],
      "execution_count": 12,
      "outputs": [
        {
          "output_type": "stream",
          "text": [
            "{'a': ['b', 'c', 'd'], 'b': ['a', 'd'], 'c': ['c'], 'd': ['b', 'c']}\n"
          ],
          "name": "stdout"
        }
      ]
    },
    {
      "cell_type": "code",
      "metadata": {
        "id": "eaSNMatmOHM5"
      },
      "source": [
        "# union operation using sets \n",
        "unique_sample_nodes = list(set(sum(dict_sample_graph.values(), [])) | set(dict_sample_graph.keys()))\n",
        "unique_sample_nodes = sorted(unique_sample_nodes, key = int)\n",
        "unique_google_nodes = list(set(sum(dict_google_graph.values(), [])) | set(dict_google_graph.keys()))\n",
        "unique_google_nodes = sorted(unique_google_nodes, key = int)"
      ],
      "execution_count": 38,
      "outputs": []
    },
    {
      "cell_type": "code",
      "metadata": {
        "id": "oCC3wyHKUiMK"
      },
      "source": [
        "unique_sample_nodes2 = list(set(sum(dict_sample_graph2.values(), [])) | set(dict_sample_graph2.keys()))\n",
        "unique_sample_nodes2.sort()"
      ],
      "execution_count": 39,
      "outputs": []
    },
    {
      "cell_type": "code",
      "metadata": {
        "colab": {
          "base_uri": "https://localhost:8080/"
        },
        "id": "-KcgQERLMDkL",
        "outputId": "a92e35d9-d3e6-4263-9e69-df1abcfaa768"
      },
      "source": [
        "print(\"Sample Graph\")\n",
        "print(\"Number of unique nodes: \", len(unique_sample_nodes), \"\\n\" ,\"Unique nodes: \", unique_sample_nodes)\n",
        "print(\"Google Graph\")\n",
        "print(\"Number of unique nodes: \", len(unique_google_nodes), \"\\n\" ,\"Unique nodes: \", unique_google_nodes[0:5])"
      ],
      "execution_count": 40,
      "outputs": [
        {
          "output_type": "stream",
          "text": [
            "Sample Graph\n",
            "Number of unique nodes:  6 \n",
            " Unique nodes:  [1, 2, 3, 4, 5, 6]\n",
            "Google Graph\n",
            "Number of unique nodes:  10000 \n",
            " Unique nodes:  ['0', '1', '2', '4', '5']\n"
          ],
          "name": "stdout"
        }
      ]
    },
    {
      "cell_type": "markdown",
      "metadata": {
        "id": "omLtkGo_qKB2"
      },
      "source": [
        "### 1. Transition Matrix\n",
        "\n",
        "create a transition matrix where the value for each cell value is (1/outbound_links_node)\n",
        "\n",
        "deadend nodes get value as (1/totalnodesin_graph)"
      ]
    },
    {
      "cell_type": "code",
      "metadata": {
        "colab": {
          "base_uri": "https://localhost:8080/"
        },
        "id": "64aC2XDBMOEK",
        "outputId": "0f205857-104c-4655-9d06-4295ae6423e6"
      },
      "source": [
        "def create_adjacency_matrix(unique_nodes, dict_graph, n):\n",
        "  a,b = 0,0  \n",
        "  dead_end = 0\n",
        "  adjacency_matrix = np.zeros(shape=(n,n))\n",
        "  for i in unique_nodes:\n",
        "    b = 0\n",
        "    for j in unique_nodes:\n",
        "      adjacent = dict_graph.get(i, [])\n",
        "      if j in adjacent:\n",
        "        adjacency_matrix[a,b] = 1/len(dict_graph[i])            \n",
        "      else:\n",
        "        if len(adjacent) == 0:\n",
        "          dead_end +=1 \n",
        "          adjacency_matrix[a,b] = 1/len(unique_nodes)\n",
        "      b += 1\n",
        "    a += 1\n",
        "  print(\"Number of deadends nodes: \", dead_end/n)\n",
        "  return adjacency_matrix\n",
        "\n",
        "adjacency_sample_matrix = create_adjacency_matrix(unique_sample_nodes, dict_sample_graph, len(unique_sample_nodes))\n",
        "adjacency_google_matrix = create_adjacency_matrix(unique_google_nodes, dict_google_graph, len(unique_google_nodes))"
      ],
      "execution_count": 41,
      "outputs": [
        {
          "output_type": "stream",
          "text": [
            "Number of deadends nodes:  1.0\n",
            "Number of deadends nodes:  1235.0\n"
          ],
          "name": "stdout"
        }
      ]
    },
    {
      "cell_type": "code",
      "metadata": {
        "colab": {
          "base_uri": "https://localhost:8080/"
        },
        "id": "HfE37g5D3hRO",
        "outputId": "72e86ab3-6b4e-47ca-9e40-03881db366e3"
      },
      "source": [
        "print('\\n')\r\n",
        "print(adjacency_sample_matrix) # visualization only for sample matrix as original matrix is very big"
      ],
      "execution_count": 42,
      "outputs": [
        {
          "output_type": "stream",
          "text": [
            "\n",
            "\n",
            "[[0.         0.5        0.5        0.         0.         0.        ]\n",
            " [0.5        0.         0.5        0.         0.         0.        ]\n",
            " [0.         1.         0.         0.         0.         0.        ]\n",
            " [0.         0.         0.33333333 0.         0.33333333 0.33333333]\n",
            " [0.16666667 0.16666667 0.16666667 0.16666667 0.16666667 0.16666667]\n",
            " [0.         0.         0.         0.5        0.5        0.        ]]\n"
          ],
          "name": "stdout"
        }
      ]
    },
    {
      "cell_type": "code",
      "metadata": {
        "id": "-OrTHFfLU26D"
      },
      "source": [
        "# adjacency_sample_matrix2 = create_adjacency_matrix(unique_sample_nodes2, dict_sample_graph2, len(unique_sample_nodes2))\n",
        "# print(adjacency_sample_matrix2)"
      ],
      "execution_count": 83,
      "outputs": []
    },
    {
      "cell_type": "markdown",
      "metadata": {
        "id": "4q5kt2_TQ-tl"
      },
      "source": [
        "augment the matrix to make it stochastic"
      ]
    },
    {
      "cell_type": "code",
      "metadata": {
        "id": "lq2xriFWEWpM",
        "cellView": "form"
      },
      "source": [
        "#@title\n",
        "# def augmented_adjacency_matrix(adjacency_matrix, d):\n",
        "#   return d*adjacency_matrix.transpose() + (1-d)/adjacency_matrix.shape[0]\n",
        "# augmented_adjacency_sample_matrix2 = augmented_adjacency_matrix(adjacency_sample_matrix2, 0.8)\n",
        "# print(augmented_adjacency_sample_matrix2)\n",
        "# augmented_adjacency_sample_matrix = augmented_adjacency_matrix(adjacency_sample_matrix, 0.9)\n",
        "# print(augmented_adjacency_sample_matrix)\n",
        "# augmented_adjacency_google_matrix = augmented_adjacency_matrix(adjacency_google_matrix, 0.9)\n",
        "# #print(augmented_adjacency_google_matrix)"
      ],
      "execution_count": 22,
      "outputs": []
    },
    {
      "cell_type": "markdown",
      "metadata": {
        "id": "9V5D8msESlmI"
      },
      "source": [
        "power iteration method to find the page rank vector"
      ]
    },
    {
      "cell_type": "code",
      "metadata": {
        "id": "7-wwAohgHXbp"
      },
      "source": [
        "def power_iteration(matrix, d, epsilon):\n",
        "  p_o_prev = np.ones(shape=(matrix.shape[0],1))/matrix.shape[0] \n",
        "  p_k_prev = d*matrix.transpose() + (1-d)/matrix.shape[0]\n",
        "  error = np.inf\n",
        "  while error > epsilon:\n",
        "    p_k = d*matrix.transpose()*p_k_prev + (1-d)/matrix.shape[0]\n",
        "    Ax = np.dot(p_k, p_o_prev)\n",
        "    norm = np.linalg.norm(Ax)\n",
        "    p_o = Ax/norm\n",
        "    error = np.sqrt(np.sum((p_o_prev - p_o)**2, axis=0))\n",
        "    p_o_prev = p_o\n",
        "    p_k_prev = p_k\n",
        "  return p_o"
      ],
      "execution_count": 74,
      "outputs": []
    },
    {
      "cell_type": "code",
      "metadata": {
        "id": "4dnRTdOnKTRC"
      },
      "source": [
        "#matrix = np.array([[3, 2], [2, 6]])\n",
        "epsilon = 0.001\n",
        "\n",
        "#sample_eigen_vector = power_iteration(adjacency_sample_matrix2, 0.8, epsilon)\n",
        "google_eigen_vector = power_iteration(adjacency_google_matrix, 0.85, epsilon)\n",
        "#print(sample_eigen_vector)"
      ],
      "execution_count": 75,
      "outputs": []
    },
    {
      "cell_type": "code",
      "metadata": {
        "id": "eHkMOg2r9shB"
      },
      "source": [
        "final_output = {'Id': unique_google_nodes, 'PageRank': google_eigen_vector.flatten()}\r\n",
        "final_output = pd.DataFrame(final_output)"
      ],
      "execution_count": 76,
      "outputs": []
    },
    {
      "cell_type": "code",
      "metadata": {
        "colab": {
          "base_uri": "https://localhost:8080/",
          "height": 79
        },
        "id": "_vdp9nUD-Umf",
        "outputId": "3d8f63b0-c9f8-4ee3-8a4c-ff70ecb629ac"
      },
      "source": [
        "final_output[final_output.Id == '486980']"
      ],
      "execution_count": 82,
      "outputs": [
        {
          "output_type": "execute_result",
          "data": {
            "text/html": [
              "<div>\n",
              "<style scoped>\n",
              "    .dataframe tbody tr th:only-of-type {\n",
              "        vertical-align: middle;\n",
              "    }\n",
              "\n",
              "    .dataframe tbody tr th {\n",
              "        vertical-align: top;\n",
              "    }\n",
              "\n",
              "    .dataframe thead th {\n",
              "        text-align: right;\n",
              "    }\n",
              "</style>\n",
              "<table border=\"1\" class=\"dataframe\">\n",
              "  <thead>\n",
              "    <tr style=\"text-align: right;\">\n",
              "      <th></th>\n",
              "      <th>Id</th>\n",
              "      <th>PageRank</th>\n",
              "    </tr>\n",
              "  </thead>\n",
              "  <tbody>\n",
              "    <tr>\n",
              "      <th>5187</th>\n",
              "      <td>486980</td>\n",
              "      <td>0.011975</td>\n",
              "    </tr>\n",
              "  </tbody>\n",
              "</table>\n",
              "</div>"
            ],
            "text/plain": [
              "          Id  PageRank\n",
              "5187  486980  0.011975"
            ]
          },
          "metadata": {
            "tags": []
          },
          "execution_count": 82
        }
      ]
    },
    {
      "cell_type": "code",
      "metadata": {
        "colab": {
          "base_uri": "https://localhost:8080/",
          "height": 353
        },
        "id": "6KDOoiXUOf3O",
        "outputId": "1b4d9444-c12b-4a0e-b06a-4895d4c9edc7"
      },
      "source": [
        "final_output.sort_values(by='PageRank', inplace=True)\r\n",
        "final_output.head(10)"
      ],
      "execution_count": 88,
      "outputs": [
        {
          "output_type": "execute_result",
          "data": {
            "text/html": [
              "<div>\n",
              "<style scoped>\n",
              "    .dataframe tbody tr th:only-of-type {\n",
              "        vertical-align: middle;\n",
              "    }\n",
              "\n",
              "    .dataframe tbody tr th {\n",
              "        vertical-align: top;\n",
              "    }\n",
              "\n",
              "    .dataframe thead th {\n",
              "        text-align: right;\n",
              "    }\n",
              "</style>\n",
              "<table border=\"1\" class=\"dataframe\">\n",
              "  <thead>\n",
              "    <tr style=\"text-align: right;\">\n",
              "      <th></th>\n",
              "      <th>Id</th>\n",
              "      <th>PageRank</th>\n",
              "    </tr>\n",
              "  </thead>\n",
              "  <tbody>\n",
              "    <tr>\n",
              "      <th>206</th>\n",
              "      <td>243</td>\n",
              "      <td>0.009994</td>\n",
              "    </tr>\n",
              "    <tr>\n",
              "      <th>142</th>\n",
              "      <td>171</td>\n",
              "      <td>0.009994</td>\n",
              "    </tr>\n",
              "    <tr>\n",
              "      <th>89</th>\n",
              "      <td>109</td>\n",
              "      <td>0.009994</td>\n",
              "    </tr>\n",
              "    <tr>\n",
              "      <th>143</th>\n",
              "      <td>172</td>\n",
              "      <td>0.009994</td>\n",
              "    </tr>\n",
              "    <tr>\n",
              "      <th>144</th>\n",
              "      <td>173</td>\n",
              "      <td>0.009994</td>\n",
              "    </tr>\n",
              "    <tr>\n",
              "      <th>146</th>\n",
              "      <td>175</td>\n",
              "      <td>0.009994</td>\n",
              "    </tr>\n",
              "    <tr>\n",
              "      <th>248</th>\n",
              "      <td>297</td>\n",
              "      <td>0.009994</td>\n",
              "    </tr>\n",
              "    <tr>\n",
              "      <th>149</th>\n",
              "      <td>179</td>\n",
              "      <td>0.009994</td>\n",
              "    </tr>\n",
              "    <tr>\n",
              "      <th>246</th>\n",
              "      <td>295</td>\n",
              "      <td>0.009994</td>\n",
              "    </tr>\n",
              "    <tr>\n",
              "      <th>80</th>\n",
              "      <td>97</td>\n",
              "      <td>0.009994</td>\n",
              "    </tr>\n",
              "  </tbody>\n",
              "</table>\n",
              "</div>"
            ],
            "text/plain": [
              "      Id  PageRank\n",
              "206  243  0.009994\n",
              "142  171  0.009994\n",
              "89   109  0.009994\n",
              "143  172  0.009994\n",
              "144  173  0.009994\n",
              "146  175  0.009994\n",
              "248  297  0.009994\n",
              "149  179  0.009994\n",
              "246  295  0.009994\n",
              "80    97  0.009994"
            ]
          },
          "metadata": {
            "tags": []
          },
          "execution_count": 88
        }
      ]
    },
    {
      "cell_type": "markdown",
      "metadata": {
        "id": "KFFPNrqoMTXk"
      },
      "source": [
        "# 2 Recommender Systems\n",
        "Consider the following matrix of user ratings on a 5-star scale:\n",
        "\n",
        "> | User| Item 1 | Item 2 | Item 3 | Item 4 | Item 5 | Item 6\n",
        ">--- | --- | --- | ---| --- | --- | ---\n",
        ">User A | 5 | 3 | 4 |  |  | 1\n",
        ">User B | 4 | 1 | 2 | 2 |  | 1\n",
        ">User C | 1 |  |  | 3 | 1 | 2\n",
        ">User D | 1 | 5 | 2 |  | 5 | \n",
        ">User E | 1 |  | 3 | 1 | 3 | \n",
        "\n",
        "\n",
        "1. Predict the rating of Item 4 by User A using user-user CF with Pearson correlation coefficient and neighborhood size of 2. Show your computation.\n",
        "\n",
        "2. Predict the rating of Item 4 by User A using item-item CF with cosine similarity and neighborhood size of 3. Show your computation."
      ]
    },
    {
      "cell_type": "code",
      "metadata": {
        "id": "QJ8lZI1mlmxD"
      },
      "source": [
        "# import pandas as pd\n",
        "# ratings = {'user': ['A', 'A', 'A', 'A', 'B', 'B', 'B', 'B', 'B', 'C', 'C', 'C', 'C', 'D', 'D', 'D', 'D', 'E', 'E', 'E', 'E'],\n",
        "#            'item': ['item1', 'item2', 'item3', 'item6', 'item1', 'item2', 'item3', 'item4', 'item6', 'item1', 'item4', 'item5', 'item6'\n",
        "#            'item1', 'item2', 'item3', 'item5', 'item1', 'item3', 'item4', 'item5'],\n",
        "#            'rating': [5, 3, 4, 1, 4, 1, 2, 2, 1, 1, 3, 1, 2, 1, 5, 2, 5, 1, 3, 1, 3] }\n",
        "# ratings_df = pd.DataFrame(ratings)\n",
        "# ratings_df.head()"
      ],
      "execution_count": null,
      "outputs": []
    }
  ]
}