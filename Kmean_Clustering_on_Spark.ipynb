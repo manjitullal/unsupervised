{
  "nbformat": 4,
  "nbformat_minor": 0,
  "metadata": {
    "kernelspec": {
      "display_name": "Python 3",
      "language": "python",
      "name": "python3"
    },
    "language_info": {
      "codemirror_mode": {
        "name": "ipython",
        "version": 3
      },
      "file_extension": ".py",
      "mimetype": "text/x-python",
      "name": "python",
      "nbconvert_exporter": "python",
      "pygments_lexer": "ipython3",
      "version": "3.7.3"
    },
    "colab": {
      "name": "Kmean-Clustering-on-Spark.ipynb",
      "provenance": [],
      "collapsed_sections": [],
      "include_colab_link": true
    }
  },
  "cells": [
    {
      "cell_type": "markdown",
      "metadata": {
        "id": "view-in-github",
        "colab_type": "text"
      },
      "source": [
        "<a href=\"https://colab.research.google.com/github/manjitullal/unsupervised/blob/main/Kmean_Clustering_on_Spark.ipynb\" target=\"_parent\"><img src=\"https://colab.research.google.com/assets/colab-badge.svg\" alt=\"Open In Colab\"/></a>"
      ]
    },
    {
      "cell_type": "code",
      "metadata": {
        "id": "WKClJfuL67LJ"
      },
      "source": [
        "!apt-get install openjdk-8-jdk-headless -qq > /dev/null\r\n",
        "!wget -q https://downloads.apache.org/spark/spark-3.0.1/spark-3.0.1-bin-hadoop2.7.tgz\r\n",
        "!tar xf spark-3.0.1-bin-hadoop2.7.tgz\r\n",
        "!pip install -q findspark"
      ],
      "execution_count": null,
      "outputs": []
    },
    {
      "cell_type": "code",
      "metadata": {
        "id": "vuj994gZ75Zf"
      },
      "source": [
        "import os\r\n",
        "os.environ[\"JAVA_HOME\"] = \"/usr/lib/jvm/java-8-openjdk-amd64\"\r\n",
        "os.environ[\"SPARK_HOME\"] = \"/content/spark-3.0.1-bin-hadoop2.7\""
      ],
      "execution_count": null,
      "outputs": []
    },
    {
      "cell_type": "code",
      "metadata": {
        "id": "h8tduRdk8Igj"
      },
      "source": [
        "import findspark\r\n",
        "findspark.init()\r\n",
        "from pyspark.sql import SparkSession\r\n",
        "spark = SparkSession.builder.master(\"local[*]\").getOrCreate()"
      ],
      "execution_count": null,
      "outputs": []
    },
    {
      "cell_type": "code",
      "metadata": {
        "colab": {
          "base_uri": "https://localhost:8080/"
        },
        "id": "vP3jYAQm77xd",
        "outputId": "27fcdada-bf8c-43f7-a488-c65842627cff"
      },
      "source": [
        "from __future__ import print_function\r\n",
        "\r\n",
        "import numpy as np\r\n",
        "import pandas as pd\r\n",
        "import matplotlib.pyplot as plt\r\n",
        "from mpl_toolkits.mplot3d import Axes3D\r\n",
        "from sklearn.datasets.samples_generator import make_blobs\r\n",
        "from pyspark import SparkContext\r\n",
        "from pyspark.ml.clustering import KMeans\r\n",
        "from pyspark.ml.evaluation import ClusteringEvaluator\r\n",
        "from pyspark.ml.feature import VectorAssembler\r\n",
        "from pyspark.sql import SQLContext\r\n",
        "import pyspark\r\n",
        "\r\n",
        "%matplotlib inline\r\n",
        "\r\n",
        "print (pyspark.__version__)"
      ],
      "execution_count": null,
      "outputs": [
        {
          "output_type": "stream",
          "text": [
            "3.0.1\n"
          ],
          "name": "stdout"
        }
      ]
    },
    {
      "cell_type": "code",
      "metadata": {
        "id": "boGPo2qM6kZk"
      },
      "source": [
        "#https://rsandstroem.github.io/sparkkmeans.html"
      ],
      "execution_count": null,
      "outputs": []
    },
    {
      "cell_type": "code",
      "metadata": {
        "colab": {
          "base_uri": "https://localhost:8080/"
        },
        "id": "Rvk59L0d8mnP",
        "outputId": "bcdf91ea-d5a4-4dde-8aa1-07458d666eba"
      },
      "source": [
        "from google.colab import drive\r\n",
        "drive.mount('/content/drive')"
      ],
      "execution_count": null,
      "outputs": [
        {
          "output_type": "stream",
          "text": [
            "Mounted at /content/drive\n"
          ],
          "name": "stdout"
        }
      ]
    },
    {
      "cell_type": "code",
      "metadata": {
        "colab": {
          "base_uri": "https://localhost:8080/"
        },
        "id": "TBv9iBFV8hpl",
        "outputId": "76289af6-df5e-42b0-9e11-4815c69c0a0b"
      },
      "source": [
        "!ls '/content/drive/MyDrive/datasets/movies/movie_data_merge.rar'"
      ],
      "execution_count": null,
      "outputs": [
        {
          "output_type": "stream",
          "text": [
            "/content/drive/MyDrive/datasets/movies/movie_data_merge.rar\n"
          ],
          "name": "stdout"
        }
      ]
    },
    {
      "cell_type": "code",
      "metadata": {
        "colab": {
          "base_uri": "https://localhost:8080/"
        },
        "id": "ubpF5WCb8RN_",
        "outputId": "25593364-366b-4dbf-8826-a55170b97b9b"
      },
      "source": [
        "!unrar x '/content/drive/MyDrive/datasets/movies/movie_data_merge.rar'"
      ],
      "execution_count": null,
      "outputs": [
        {
          "output_type": "stream",
          "text": [
            "\n",
            "UNRAR 5.50 freeware      Copyright (c) 1993-2017 Alexander Roshal\n",
            "\n",
            "\n",
            "Extracting from /content/drive/MyDrive/datasets/movies/movie_data_merge.rar\n",
            "\n",
            "Extracting  movie_data_merge                                             \b\b\b\b  0%\b\b\b\b  1%\b\b\b\b  2%\b\b\b\b  3%\b\b\b\b  4%\b\b\b\b  5%\b\b\b\b  6%\b\b\b\b  7%\b\b\b\b  8%\b\b\b\b  9%\b\b\b\b 10%\b\b\b\b 11%\b\b\b\b 12%\b\b\b\b 13%\b\b\b\b 14%\b\b\b\b 15%\b\b\b\b 16%\b\b\b\b 17%\b\b\b\b 18%\b\b\b\b 19%\b\b\b\b 20%\b\b\b\b 21%\b\b\b\b 22%\b\b\b\b 23%\b\b\b\b 24%\b\b\b\b 25%\b\b\b\b 26%\b\b\b\b 27%\b\b\b\b 28%\b\b\b\b 29%\b\b\b\b 30%\b\b\b\b 31%\b\b\b\b 32%\b\b\b\b 33%\b\b\b\b 34%\b\b\b\b 35%\b\b\b\b 36%\b\b\b\b 37%\b\b\b\b 38%\b\b\b\b 39%\b\b\b\b 40%\b\b\b\b 41%\b\b\b\b 42%\b\b\b\b 43%\b\b\b\b 44%\b\b\b\b 45%\b\b\b\b 46%\b\b\b\b 47%\b\b\b\b 48%\b\b\b\b 49%\b\b\b\b 50%\b\b\b\b 51%\b\b\b\b 52%\b\b\b\b 53%\b\b\b\b 54%\b\b\b\b 55%\b\b\b\b 56%\b\b\b\b 57%\b\b\b\b 58%\b\b\b\b 59%\b\b\b\b 60%\b\b\b\b 61%\b\b\b\b 62%\b\b\b\b 63%\b\b\b\b 64%\b\b\b\b 65%\b\b\b\b 66%\b\b\b\b 67%\b\b\b\b 68%\b\b\b\b 69%\b\b\b\b 70%\b\b\b\b 71%\b\b\b\b 72%\b\b\b\b 73%\b\b\b\b 74%\b\b\b\b 75%\b\b\b\b 76%\b\b\b\b 77%\b\b\b\b 78%\b\b\b\b 79%\b\b\b\b 80%\b\b\b\b 81%\b\b\b\b 82%\b\b\b\b 83%\b\b\b\b 84%\b\b\b\b 85%\b\b\b\b 86%\b\b\b\b 87%\b\b\b\b 88%\b\b\b\b 89%\b\b\b\b 90%\b\b\b\b 91%\b\b\b\b 92%\b\b\b\b 93%\b\b\b\b 94%\b\b\b\b 95%\b\b\b\b 96%\b\b\b\b 97%\b\b\b\b 98%\b\b\b\b 99%\b\b\b\b\b  OK \n",
            "All OK\n"
          ],
          "name": "stdout"
        }
      ]
    },
    {
      "cell_type": "code",
      "metadata": {
        "id": "SKQal9C46kZm",
        "colab": {
          "base_uri": "https://localhost:8080/",
          "height": 661
        },
        "outputId": "ae4ad106-fd83-407f-a130-73fd21a135b6"
      },
      "source": [
        "data = pd.read_pickle('/content/movie_data_merge')\n",
        "data.head()"
      ],
      "execution_count": 52,
      "outputs": [
        {
          "output_type": "execute_result",
          "data": {
            "text/html": [
              "<div>\n",
              "<style scoped>\n",
              "    .dataframe tbody tr th:only-of-type {\n",
              "        vertical-align: middle;\n",
              "    }\n",
              "\n",
              "    .dataframe tbody tr th {\n",
              "        vertical-align: top;\n",
              "    }\n",
              "\n",
              "    .dataframe thead th {\n",
              "        text-align: right;\n",
              "    }\n",
              "</style>\n",
              "<table border=\"1\" class=\"dataframe\">\n",
              "  <thead>\n",
              "    <tr style=\"text-align: right;\">\n",
              "      <th></th>\n",
              "      <th>adult</th>\n",
              "      <th>budget</th>\n",
              "      <th>genres</th>\n",
              "      <th>id</th>\n",
              "      <th>imdb_id</th>\n",
              "      <th>original_language</th>\n",
              "      <th>original_title</th>\n",
              "      <th>overview</th>\n",
              "      <th>popularity</th>\n",
              "      <th>production_companies</th>\n",
              "      <th>production_countries</th>\n",
              "      <th>release_date</th>\n",
              "      <th>revenue</th>\n",
              "      <th>runtime</th>\n",
              "      <th>spoken_languages</th>\n",
              "      <th>status</th>\n",
              "      <th>title</th>\n",
              "      <th>vote_average</th>\n",
              "      <th>vote_count</th>\n",
              "      <th>cast</th>\n",
              "      <th>crew</th>\n",
              "      <th>score</th>\n",
              "    </tr>\n",
              "  </thead>\n",
              "  <tbody>\n",
              "    <tr>\n",
              "      <th>314</th>\n",
              "      <td>False</td>\n",
              "      <td>25000000</td>\n",
              "      <td>Drama, Crime</td>\n",
              "      <td>278.0</td>\n",
              "      <td>tt0111161</td>\n",
              "      <td>en</td>\n",
              "      <td>The Shawshank Redemption</td>\n",
              "      <td>Framed in the 1940s for the double murder of h...</td>\n",
              "      <td>51.6454</td>\n",
              "      <td>Castle Rock Entertainment, Warner Bros</td>\n",
              "      <td>United States of America</td>\n",
              "      <td>1994-09-23</td>\n",
              "      <td>2.834147e+07</td>\n",
              "      <td>142.0</td>\n",
              "      <td>English</td>\n",
              "      <td>Released</td>\n",
              "      <td>The Shawshank Redemption</td>\n",
              "      <td>8.5</td>\n",
              "      <td>8358.0</td>\n",
              "      <td>[{'cast_id': 3, 'character': 'Andy Dufresne', ...</td>\n",
              "      <td>[{'credit_id': '52fe4231c3a36847f800b127', 'de...</td>\n",
              "      <td>8.445870</td>\n",
              "    </tr>\n",
              "    <tr>\n",
              "      <th>837</th>\n",
              "      <td>False</td>\n",
              "      <td>6000000</td>\n",
              "      <td>Drama, Crime</td>\n",
              "      <td>238.0</td>\n",
              "      <td>tt0068646</td>\n",
              "      <td>en</td>\n",
              "      <td>The Godfather</td>\n",
              "      <td>Spanning the years 1945 to 1955, a chronicle o...</td>\n",
              "      <td>41.1093</td>\n",
              "      <td>Paramount Pictures, Alfran Productions</td>\n",
              "      <td>United States of America</td>\n",
              "      <td>1972-03-14</td>\n",
              "      <td>2.450664e+08</td>\n",
              "      <td>175.0</td>\n",
              "      <td>English, Italiano, Latin</td>\n",
              "      <td>Released</td>\n",
              "      <td>The Godfather</td>\n",
              "      <td>8.5</td>\n",
              "      <td>6024.0</td>\n",
              "      <td>[{'cast_id': 5, 'character': 'Don Vito Corleon...</td>\n",
              "      <td>[{'credit_id': '52fe422bc3a36847f80093db', 'de...</td>\n",
              "      <td>8.425439</td>\n",
              "    </tr>\n",
              "    <tr>\n",
              "      <th>10345</th>\n",
              "      <td>False</td>\n",
              "      <td>13200000</td>\n",
              "      <td>Comedy, Drama, Romance</td>\n",
              "      <td>19404.0</td>\n",
              "      <td>tt0112870</td>\n",
              "      <td>hi</td>\n",
              "      <td>Dilwale Dulhania Le Jayenge</td>\n",
              "      <td>Raj is a rich, carefree, happy-go-lucky second...</td>\n",
              "      <td>34.457</td>\n",
              "      <td>Yash Raj Films</td>\n",
              "      <td>India</td>\n",
              "      <td>1995-10-20</td>\n",
              "      <td>1.000000e+08</td>\n",
              "      <td>190.0</td>\n",
              "      <td>हिन</td>\n",
              "      <td>Released</td>\n",
              "      <td>Dilwale Dulhania Le Jayenge</td>\n",
              "      <td>9.1</td>\n",
              "      <td>661.0</td>\n",
              "      <td>[{'cast_id': 1, 'character': 'Raj Malhotra', '...</td>\n",
              "      <td>[{'credit_id': '57a3054a9251417c57000d7a', 'de...</td>\n",
              "      <td>8.421458</td>\n",
              "    </tr>\n",
              "    <tr>\n",
              "      <th>12525</th>\n",
              "      <td>False</td>\n",
              "      <td>185000000</td>\n",
              "      <td>Drama, Action, Crime, Thriller</td>\n",
              "      <td>155.0</td>\n",
              "      <td>tt0468569</td>\n",
              "      <td>en</td>\n",
              "      <td>The Dark Knight</td>\n",
              "      <td>Batman raises the stakes in his war on crime. ...</td>\n",
              "      <td>123.167</td>\n",
              "      <td>DC Comics, Legendary Pictures, Warner Bros, D...</td>\n",
              "      <td>United Kingdom, United States of America</td>\n",
              "      <td>2008-07-16</td>\n",
              "      <td>1.004558e+09</td>\n",
              "      <td>152.0</td>\n",
              "      <td>English, 普通话</td>\n",
              "      <td>Released</td>\n",
              "      <td>The Dark Knight</td>\n",
              "      <td>8.3</td>\n",
              "      <td>12269.0</td>\n",
              "      <td>[{'cast_id': 35, 'character': 'Bruce Wayne / B...</td>\n",
              "      <td>[{'credit_id': '55a0eb4a925141296b0010f8', 'de...</td>\n",
              "      <td>8.265477</td>\n",
              "    </tr>\n",
              "    <tr>\n",
              "      <th>2854</th>\n",
              "      <td>False</td>\n",
              "      <td>63000000</td>\n",
              "      <td>Drama</td>\n",
              "      <td>550.0</td>\n",
              "      <td>tt0137523</td>\n",
              "      <td>en</td>\n",
              "      <td>Fight Club</td>\n",
              "      <td>A ticking-time-bomb insomniac and a slippery s...</td>\n",
              "      <td>63.8696</td>\n",
              "      <td>Twentieth Century Fox Film Corporation, Regen...</td>\n",
              "      <td>Germany, United States of America</td>\n",
              "      <td>1999-10-15</td>\n",
              "      <td>1.008538e+08</td>\n",
              "      <td>139.0</td>\n",
              "      <td>English</td>\n",
              "      <td>Released</td>\n",
              "      <td>Fight Club</td>\n",
              "      <td>8.3</td>\n",
              "      <td>9678.0</td>\n",
              "      <td>[{'cast_id': 4, 'character': 'The Narrator', '...</td>\n",
              "      <td>[{'credit_id': '55731b8192514111610027d7', 'de...</td>\n",
              "      <td>8.256385</td>\n",
              "    </tr>\n",
              "  </tbody>\n",
              "</table>\n",
              "</div>"
            ],
            "text/plain": [
              "       adult  ...     score\n",
              "314    False  ...  8.445870\n",
              "837    False  ...  8.425439\n",
              "10345  False  ...  8.421458\n",
              "12525  False  ...  8.265477\n",
              "2854   False  ...  8.256385\n",
              "\n",
              "[5 rows x 22 columns]"
            ]
          },
          "metadata": {
            "tags": []
          },
          "execution_count": 52
        }
      ]
    },
    {
      "cell_type": "code",
      "metadata": {
        "colab": {
          "base_uri": "https://localhost:8080/"
        },
        "id": "Cr02ZwjV9HRN",
        "outputId": "042f6c12-a0d9-45f2-a46a-4654bc6e90cd"
      },
      "source": [
        "df.shape"
      ],
      "execution_count": null,
      "outputs": [
        {
          "output_type": "execute_result",
          "data": {
            "text/plain": [
              "(45538, 22)"
            ]
          },
          "metadata": {
            "tags": []
          },
          "execution_count": 18
        }
      ]
    },
    {
      "cell_type": "code",
      "metadata": {
        "id": "eKM3mVXj6kZm"
      },
      "source": [
        "from sklearn.preprocessing import LabelEncoder\n",
        "le = LabelEncoder()\n",
        "df.adult= le.fit_transform(df.adult.values)"
      ],
      "execution_count": null,
      "outputs": []
    },
    {
      "cell_type": "code",
      "metadata": {
        "id": "rxfQ8ilo6kZn"
      },
      "source": [
        "# all_genres = df[\"genres\"].str.split(\",\",expand = True) \n",
        "# new_df = pd.concat([df, all_genres],axis=1)\n",
        "# new_df = new_df.rename(columns={0:'genre1', 1:'genre2', 2:'genre3', 3:'genre4',\n",
        "#                                4:'genre5', 5:'genre6', 6:'genre7', 7:'genre8'})\n",
        "# new_df.drop(['genres'], axis=1, inplace=True)\n",
        "# new_df.genre1= le.fit_transform(new_df.genre1.astype(str).values)\n",
        "# new_df.genre2= le.fit_transform(new_df.genre2.astype(str).values)\n",
        "# new_df.genre3= le.fit_transform(new_df.genre3.astype(str).values)\n",
        "# new_df.genre4= le.fit_transform(new_df.genre4.astype(str).values)\n",
        "# new_df.genre5= le.fit_transform(new_df.genre5.astype(str).values)\n",
        "# new_df.genre6= le.fit_transform(new_df.genre6.astype(str).values)\n",
        "# new_df.genre7= le.fit_transform(new_df.genre7.astype(str).values)\n",
        "# new_df.genre8= le.fit_transform(new_df.genre8.astype(str).values)"
      ],
      "execution_count": null,
      "outputs": []
    },
    {
      "cell_type": "code",
      "metadata": {
        "id": "SE7QpsB06kZn",
        "colab": {
          "base_uri": "https://localhost:8080/"
        },
        "outputId": "c979bde0-e892-4612-c62f-f6bfca63408c"
      },
      "source": [
        "df.columns"
      ],
      "execution_count": null,
      "outputs": [
        {
          "output_type": "execute_result",
          "data": {
            "text/plain": [
              "Index(['adult', 'budget', 'genres', 'id', 'imdb_id', 'original_language',\n",
              "       'original_title', 'overview', 'popularity', 'production_companies',\n",
              "       'production_countries', 'release_date', 'revenue', 'runtime',\n",
              "       'spoken_languages', 'status', 'title', 'vote_average', 'vote_count',\n",
              "       'cast', 'crew', 'score'],\n",
              "      dtype='object')"
            ]
          },
          "metadata": {
            "tags": []
          },
          "execution_count": 20
        }
      ]
    },
    {
      "cell_type": "code",
      "metadata": {
        "id": "77HD0kCv6kZo"
      },
      "source": [
        "FEATURES_COL = ['id','adult', 'budget', 'popularity', 'revenue', 'vote_average', 'vote_count', 'score']"
      ],
      "execution_count": null,
      "outputs": []
    },
    {
      "cell_type": "code",
      "metadata": {
        "id": "PjsyPCr46kZo",
        "colab": {
          "base_uri": "https://localhost:8080/",
          "height": 201
        },
        "outputId": "cbbba715-4abf-4d54-ffb4-093c93b53e16"
      },
      "source": [
        "df = data[FEATURES_COL]\n",
        "df.head()"
      ],
      "execution_count": null,
      "outputs": [
        {
          "output_type": "execute_result",
          "data": {
            "text/html": [
              "<div>\n",
              "<style scoped>\n",
              "    .dataframe tbody tr th:only-of-type {\n",
              "        vertical-align: middle;\n",
              "    }\n",
              "\n",
              "    .dataframe tbody tr th {\n",
              "        vertical-align: top;\n",
              "    }\n",
              "\n",
              "    .dataframe thead th {\n",
              "        text-align: right;\n",
              "    }\n",
              "</style>\n",
              "<table border=\"1\" class=\"dataframe\">\n",
              "  <thead>\n",
              "    <tr style=\"text-align: right;\">\n",
              "      <th></th>\n",
              "      <th>id</th>\n",
              "      <th>adult</th>\n",
              "      <th>budget</th>\n",
              "      <th>popularity</th>\n",
              "      <th>revenue</th>\n",
              "      <th>vote_average</th>\n",
              "      <th>vote_count</th>\n",
              "      <th>score</th>\n",
              "    </tr>\n",
              "  </thead>\n",
              "  <tbody>\n",
              "    <tr>\n",
              "      <th>314</th>\n",
              "      <td>278.0</td>\n",
              "      <td>0</td>\n",
              "      <td>25000000</td>\n",
              "      <td>51.6454</td>\n",
              "      <td>2.834147e+07</td>\n",
              "      <td>8.5</td>\n",
              "      <td>8358.0</td>\n",
              "      <td>8.445870</td>\n",
              "    </tr>\n",
              "    <tr>\n",
              "      <th>837</th>\n",
              "      <td>238.0</td>\n",
              "      <td>0</td>\n",
              "      <td>6000000</td>\n",
              "      <td>41.1093</td>\n",
              "      <td>2.450664e+08</td>\n",
              "      <td>8.5</td>\n",
              "      <td>6024.0</td>\n",
              "      <td>8.425439</td>\n",
              "    </tr>\n",
              "    <tr>\n",
              "      <th>10345</th>\n",
              "      <td>19404.0</td>\n",
              "      <td>0</td>\n",
              "      <td>13200000</td>\n",
              "      <td>34.457</td>\n",
              "      <td>1.000000e+08</td>\n",
              "      <td>9.1</td>\n",
              "      <td>661.0</td>\n",
              "      <td>8.421458</td>\n",
              "    </tr>\n",
              "    <tr>\n",
              "      <th>12525</th>\n",
              "      <td>155.0</td>\n",
              "      <td>0</td>\n",
              "      <td>185000000</td>\n",
              "      <td>123.167</td>\n",
              "      <td>1.004558e+09</td>\n",
              "      <td>8.3</td>\n",
              "      <td>12269.0</td>\n",
              "      <td>8.265477</td>\n",
              "    </tr>\n",
              "    <tr>\n",
              "      <th>2854</th>\n",
              "      <td>550.0</td>\n",
              "      <td>0</td>\n",
              "      <td>63000000</td>\n",
              "      <td>63.8696</td>\n",
              "      <td>1.008538e+08</td>\n",
              "      <td>8.3</td>\n",
              "      <td>9678.0</td>\n",
              "      <td>8.256385</td>\n",
              "    </tr>\n",
              "  </tbody>\n",
              "</table>\n",
              "</div>"
            ],
            "text/plain": [
              "            id  adult     budget  ... vote_average  vote_count     score\n",
              "314      278.0      0   25000000  ...          8.5      8358.0  8.445870\n",
              "837      238.0      0    6000000  ...          8.5      6024.0  8.425439\n",
              "10345  19404.0      0   13200000  ...          9.1       661.0  8.421458\n",
              "12525    155.0      0  185000000  ...          8.3     12269.0  8.265477\n",
              "2854     550.0      0   63000000  ...          8.3      9678.0  8.256385\n",
              "\n",
              "[5 rows x 8 columns]"
            ]
          },
          "metadata": {
            "tags": []
          },
          "execution_count": 22
        }
      ]
    },
    {
      "cell_type": "code",
      "metadata": {
        "id": "zJ_Rt8Cm6kZp"
      },
      "source": [
        "# from sklearn.preprocessing import MinMaxScaler\n",
        "# scaler = MinMaxScaler()\n",
        "# data_scaled = scaler.fit_transform(df)\n",
        "# df_scaled = pd.DataFrame(data_scaled, columns=df.columns)\n",
        "# df_scaled.head()\n",
        "df.to_csv(r'/content/data.csv', index=False)"
      ],
      "execution_count": null,
      "outputs": []
    },
    {
      "cell_type": "code",
      "metadata": {
        "id": "022ja4kE6kZq",
        "colab": {
          "base_uri": "https://localhost:8080/"
        },
        "outputId": "3005b51d-5111-414d-8168-1be7b0ad454d"
      },
      "source": [
        "df_spark = spark.read.csv('/content/data.csv', header=True) # requires spark 2.0\n",
        "df_spark.show()"
      ],
      "execution_count": null,
      "outputs": [
        {
          "output_type": "stream",
          "text": [
            "+--------+-----+---------+------------------+------------+------------+----------+-----------------+\n",
            "|      id|adult|   budget|        popularity|     revenue|vote_average|vote_count|            score|\n",
            "+--------+-----+---------+------------------+------------+------------+----------+-----------------+\n",
            "|   278.0|    0| 25000000|         51.645403|  28341469.0|         8.5|    8358.0|8.445869586835052|\n",
            "|   238.0|    0|  6000000|         41.109264| 245066411.0|         8.5|    6024.0| 8.42543938238373|\n",
            "| 19404.0|    0| 13200000|         34.457024| 100000000.0|         9.1|     661.0|8.421458149404364|\n",
            "|   155.0|    0|185000000|        123.167259|1004558444.0|         8.3|   12269.0|8.265477282215866|\n",
            "|   550.0|    0| 63000000|         63.869599| 100853753.0|         8.3|    9678.0| 8.25638515355367|\n",
            "|   680.0|    0|  8000000|140.95023600000002| 213928762.0|         8.3|    8670.0|8.251406244695469|\n",
            "|   424.0|    0| 22000000|41.725122999999996| 321365567.0|         8.3|    4436.0|8.206639934869665|\n",
            "|244786.0|    0|  3300000| 64.29999000000001|  13092000.0|         8.3|    4376.0|8.205405013373232|\n",
            "|   129.0|    0| 15000000|         41.048867| 274925095.0|         8.3|    3968.0|8.196055508881052|\n",
            "|   637.0|    0| 20000000|          39.39497| 229400000.0|         8.3|    3643.0|8.187172532385219|\n",
            "|   240.0|    0| 13000000|         36.629307|  47542841.0|         8.3|    3418.0|8.180077456864446|\n",
            "|   510.0|    0|  3000000|         35.529554| 108981275.0|         8.3|    3001.0|8.164257241588416|\n",
            "|    13.0|    0| 55000000|         48.307194| 677945399.0|         8.2|    8147.0| 8.15027291930432|\n",
            "|  1891.0|    0| 18000000|         19.470959| 538400000.0|         8.2|    5998.0|8.132919314819905|\n",
            "|   539.0|    0|   806948|         36.826309|  32000000.0|         8.3|    2405.0|8.132716234175822|\n",
            "| 77338.0|    0| 13000000|         16.086919| 426480871.0|         8.2|    5410.0|8.125837906761397|\n",
            "|372058.0|    0|        0|         34.461252| 355298270.0|         8.5|    1030.0|8.112535412320154|\n",
            "|   101.0|    0| 16000000|         20.477329|  45284974.0|         8.2|    4293.0|8.107234929409607|\n",
            "|   497.0|    0| 60000000|          19.96678| 284600000.0|         8.2|    4166.0|8.104511590536518|\n",
            "|   769.0|    0| 25000000|15.424092000000002|  46836394.0|         8.2|    3211.0|8.077459845939181|\n",
            "+--------+-----+---------+------------------+------------+------------+----------+-----------------+\n",
            "only showing top 20 rows\n",
            "\n"
          ],
          "name": "stdout"
        }
      ]
    },
    {
      "cell_type": "code",
      "metadata": {
        "id": "2Yn3ZV5v6kZq"
      },
      "source": [
        "for col in df_spark.columns:\n",
        "    if col in FEATURES_COL:\n",
        "        df_spark = df_spark.withColumn(col,df_spark[col].cast('float'))"
      ],
      "execution_count": null,
      "outputs": []
    },
    {
      "cell_type": "code",
      "metadata": {
        "id": "LZwZf-8o6kZr"
      },
      "source": [
        "df_spark = df_spark.na.drop()"
      ],
      "execution_count": null,
      "outputs": []
    },
    {
      "cell_type": "code",
      "metadata": {
        "id": "zolf-0sQ6kZr"
      },
      "source": [
        "FEATURES_COL = ['adult', 'budget', 'popularity', 'revenue', 'vote_average', 'vote_count', 'score']"
      ],
      "execution_count": null,
      "outputs": []
    },
    {
      "cell_type": "code",
      "metadata": {
        "id": "QUMrW-r-6kZr",
        "colab": {
          "base_uri": "https://localhost:8080/"
        },
        "outputId": "f525e276-da88-4d3d-db0e-7895fc31ea36"
      },
      "source": [
        "vecAssembler = VectorAssembler(inputCols=FEATURES_COL, outputCol=\"features\")\n",
        "df_kmeans = vecAssembler.transform(df_spark).select('id', 'features')\n",
        "df_kmeans.show()"
      ],
      "execution_count": null,
      "outputs": [
        {
          "output_type": "stream",
          "text": [
            "+--------+--------------------+\n",
            "|      id|            features|\n",
            "+--------+--------------------+\n",
            "|   278.0|[278.0,0.0,2.5E7,...|\n",
            "|   238.0|[238.0,0.0,600000...|\n",
            "| 19404.0|[19404.0,0.0,1.32...|\n",
            "|   155.0|[155.0,0.0,1.85E8...|\n",
            "|   550.0|[550.0,0.0,6.3E7,...|\n",
            "|   680.0|[680.0,0.0,800000...|\n",
            "|   424.0|[424.0,0.0,2.2E7,...|\n",
            "|244786.0|[244786.0,0.0,330...|\n",
            "|   129.0|[129.0,0.0,1.5E7,...|\n",
            "|   637.0|[637.0,0.0,2.0E7,...|\n",
            "|   240.0|[240.0,0.0,1.3E7,...|\n",
            "|   510.0|[510.0,0.0,300000...|\n",
            "|    13.0|[13.0,0.0,5.5E7,4...|\n",
            "|  1891.0|[1891.0,0.0,1.8E7...|\n",
            "|   539.0|[539.0,0.0,806948...|\n",
            "| 77338.0|[77338.0,0.0,1.3E...|\n",
            "|372058.0|[372058.0,0.0,0.0...|\n",
            "|   101.0|[101.0,0.0,1.6E7,...|\n",
            "|   497.0|[497.0,0.0,6.0E7,...|\n",
            "|   769.0|[769.0,0.0,2.5E7,...|\n",
            "+--------+--------------------+\n",
            "only showing top 20 rows\n",
            "\n"
          ],
          "name": "stdout"
        }
      ]
    },
    {
      "cell_type": "code",
      "metadata": {
        "id": "RKEdqxc36kZs"
      },
      "source": [
        "cost = np.zeros(30)\n",
        "evaluator = ClusteringEvaluator()\n",
        "for k in range(2,30):\n",
        "    kmeans = KMeans().setK(k).setSeed(1).setFeaturesCol(\"features\")\n",
        "    model = kmeans.fit(df_kmeans.sample(False,0.1, seed=42))\n",
        "    predictions = model.transform(df_kmeans)    \n",
        "    cost[k] = evaluator.evaluate(predictions)"
      ],
      "execution_count": null,
      "outputs": []
    },
    {
      "cell_type": "code",
      "metadata": {
        "id": "DFASU6j26kZs",
        "outputId": "bc6d03a9-47d2-45f7-97dd-2fe08cb933ff"
      },
      "source": [
        "fig, ax = plt.subplots(1,1, figsize =(8,6))\n",
        "ax.plot(range(2,30),cost[2:30])\n",
        "ax.set_xlabel('k')\n",
        "ax.set_ylabel('cost')"
      ],
      "execution_count": null,
      "outputs": [
        {
          "output_type": "execute_result",
          "data": {
            "text/plain": [
              "Text(0, 0.5, 'cost')"
            ]
          },
          "metadata": {
            "tags": []
          },
          "execution_count": 26
        },
        {
          "output_type": "display_data",
          "data": {
            "image/png": "[encoded data removed]",
            "text/plain": [
              "<Figure size 576x432 with 1 Axes>"
            ]
          },
          "metadata": {
            "tags": [],
            "needs_background": "light"
          }
        }
      ]
    },
    {
      "cell_type": "code",
      "metadata": {
        "id": "gA_rwQ5w6kZt",
        "colab": {
          "base_uri": "https://localhost:8080/"
        },
        "outputId": "7974f555-d122-4180-843c-36adb6a49755"
      },
      "source": [
        "k = 10\n",
        "kmeans = KMeans().setK(k).setSeed(1).setFeaturesCol(\"features\")\n",
        "model = kmeans.fit(df_kmeans)\n",
        "centers = model.clusterCenters()\n",
        "\n",
        "print(\"Cluster Centers: \")\n",
        "for center in centers:\n",
        "    print(center)"
      ],
      "execution_count": 31,
      "outputs": [
        {
          "output_type": "stream",
          "text": [
            "Cluster Centers: \n",
            "[1.13551117e+05 2.17113357e-04 5.05882938e+05 2.09986944e+00\n",
            " 5.28679112e+05 5.55718043e+00 3.10545437e+01 5.68709793e+00]\n",
            "[9.73170816e+04 0.00000000e+00 1.80265306e+08 4.93718943e+01\n",
            " 1.05388541e+09 7.00612248e+00 5.62663265e+03 6.96640029e+00]\n",
            "[7.30302292e+04 0.00000000e+00 1.38571354e+08 3.10240837e+01\n",
            " 6.85835267e+08 6.85937500e+00 4.59177083e+03 6.81409525e+00]\n",
            "[5.52031865e+04 0.00000000e+00 9.68000000e+07 1.39505538e+01\n",
            " 2.79261987e+08 6.31088082e+00 1.88470466e+03 6.24427151e+00]\n",
            "[5.56768567e+04 0.00000000e+00 4.66130545e+07 1.41875896e+01\n",
            " 2.04300560e+08 6.46751591e+00 1.45029936e+03 6.36553732e+00]\n",
            "[5.37330000e+04 0.00000000e+00 2.27333333e+08 8.11953252e+01\n",
            " 2.23374101e+09 7.39999994e+00 9.29233333e+03 7.36816120e+00]\n",
            "[5.77862989e+04 0.00000000e+00 9.63914130e+07 1.80736829e+01\n",
            " 4.17155742e+08 6.64619565e+00 2.87770109e+03 6.58351564e+00]\n",
            "[5.43006009e+04 0.00000000e+00 4.67336054e+07 1.10472976e+01\n",
            " 1.19007879e+08 6.33462089e+00 9.35981402e+02 6.20725922e+00]\n",
            "[5.39468797e+04 0.00000000e+00 3.21315489e+07 7.88087576e+00\n",
            " 1.33527271e+07 5.90493446e+00 2.43063223e+02 5.81628990e+00]\n",
            "[5.32581323e+04 0.00000000e+00 1.85528254e+07 9.57974341e+00\n",
            " 5.49491441e+07 6.32085004e+00 5.20850040e+02 6.10849897e+00]\n"
          ],
          "name": "stdout"
        }
      ]
    },
    {
      "cell_type": "code",
      "metadata": {
        "id": "6Br-WPP_6kZt",
        "colab": {
          "base_uri": "https://localhost:8080/"
        },
        "outputId": "2d7f3337-1931-4e4f-842f-f7e18d7bb7e6"
      },
      "source": [
        "transformed = model.transform(df_kmeans).select('id', 'prediction')\n",
        "rows = transformed.collect()\n",
        "print(rows[:3])"
      ],
      "execution_count": 32,
      "outputs": [
        {
          "output_type": "stream",
          "text": [
            "[Row(id=278.0, prediction=8), Row(id=238.0, prediction=4), Row(id=19404.0, prediction=7)]\n"
          ],
          "name": "stdout"
        }
      ]
    },
    {
      "cell_type": "code",
      "metadata": {
        "id": "l-vdlidR6kZu",
        "colab": {
          "base_uri": "https://localhost:8080/"
        },
        "outputId": "b09ec16b-9f1c-4065-b99e-ff9bb27e7dbc"
      },
      "source": [
        "df_pred = spark.createDataFrame(rows)\n",
        "df_pred.show()"
      ],
      "execution_count": 34,
      "outputs": [
        {
          "output_type": "stream",
          "text": [
            "+--------+----------+\n",
            "|      id|prediction|\n",
            "+--------+----------+\n",
            "|   278.0|         8|\n",
            "|   238.0|         4|\n",
            "| 19404.0|         7|\n",
            "|   155.0|         1|\n",
            "|   550.0|         7|\n",
            "|   680.0|         4|\n",
            "|   424.0|         3|\n",
            "|244786.0|         0|\n",
            "|   129.0|         4|\n",
            "|   637.0|         4|\n",
            "|   240.0|         9|\n",
            "|   510.0|         7|\n",
            "|    13.0|         2|\n",
            "|  1891.0|         6|\n",
            "|   539.0|         9|\n",
            "| 77338.0|         6|\n",
            "|372058.0|         6|\n",
            "|   101.0|         9|\n",
            "|   497.0|         3|\n",
            "|   769.0|         9|\n",
            "+--------+----------+\n",
            "only showing top 20 rows\n",
            "\n"
          ],
          "name": "stdout"
        }
      ]
    },
    {
      "cell_type": "code",
      "metadata": {
        "id": "ZySZftdr6kZu",
        "colab": {
          "base_uri": "https://localhost:8080/"
        },
        "outputId": "9b25521f-218d-4002-9e48-28a41af8b241"
      },
      "source": [
        "df_pred = df_pred.join(df_spark, 'id')\n",
        "df_pred.show()"
      ],
      "execution_count": 35,
      "outputs": [
        {
          "output_type": "stream",
          "text": [
            "+--------+----------+-----+---------+----------+------------+------------+----------+--------+\n",
            "|      id|prediction|adult|   budget|popularity|     revenue|vote_average|vote_count|   score|\n",
            "+--------+----------+-----+---------+----------+------------+------------+----------+--------+\n",
            "|   278.0|         8|  0.0|    2.5E7| 51.645405| 2.8341468E7|         8.5|    8358.0|8.445869|\n",
            "|   238.0|         4|  0.0|6000000.0| 41.109264|2.45066416E8|         8.5|    6024.0| 8.42544|\n",
            "| 19404.0|         7|  0.0|   1.32E7| 34.457024|       1.0E8|         9.1|     661.0|8.421458|\n",
            "|   155.0|         1|  0.0|   1.85E8| 123.16726|1.00455846E9|         8.3|   12269.0|8.265477|\n",
            "|   550.0|         7|  0.0|    6.3E7|   63.8696|1.00853752E8|         8.3|    9678.0|8.256385|\n",
            "|   680.0|         4|  0.0|8000000.0| 140.95024|2.13928768E8|         8.3|    8670.0|8.251407|\n",
            "|   424.0|         3|  0.0|    2.2E7| 41.725124|3.21365568E8|         8.3|    4436.0| 8.20664|\n",
            "|244786.0|         0|  0.0|3300000.0|  64.29999|    1.3092E7|         8.3|    4376.0|8.205405|\n",
            "|   129.0|         4|  0.0|    1.5E7| 41.048866|2.74925088E8|         8.3|    3968.0|8.196055|\n",
            "|   637.0|         4|  0.0|    2.0E7|  39.39497|     2.294E8|         8.3|    3643.0|8.187173|\n",
            "|   240.0|         9|  0.0|    1.3E7| 36.629307|  4.754284E7|         8.3|    3418.0|8.180078|\n",
            "|   510.0|         7|  0.0|3000000.0| 35.529552|1.08981272E8|         8.3|    3001.0|8.164257|\n",
            "|    13.0|         2|  0.0|    5.5E7| 48.307194| 6.7794541E8|         8.2|    8147.0|8.150273|\n",
            "|  1891.0|         6|  0.0|    1.8E7| 19.470959|     5.384E8|         8.2|    5998.0|8.132919|\n",
            "|   539.0|         9|  0.0| 806948.0|  36.82631|       3.2E7|         8.3|    2405.0|8.132716|\n",
            "| 77338.0|         6|  0.0|    1.3E7|  16.08692|4.26480864E8|         8.2|    5410.0|8.125838|\n",
            "|372058.0|         6|  0.0|      0.0|  34.46125|3.55298272E8|         8.5|    1030.0|8.112535|\n",
            "|   101.0|         9|  0.0|    1.6E7|  20.47733| 4.5284976E7|         8.2|    4293.0|8.107235|\n",
            "|   497.0|         3|  0.0|    6.0E7|  19.96678|     2.846E8|         8.2|    4166.0|8.104511|\n",
            "|   769.0|         9|  0.0|    2.5E7| 15.424092| 4.6836392E7|         8.2|    3211.0| 8.07746|\n",
            "+--------+----------+-----+---------+----------+------------+------------+----------+--------+\n",
            "only showing top 20 rows\n",
            "\n"
          ],
          "name": "stdout"
        }
      ]
    },
    {
      "cell_type": "code",
      "metadata": {
        "id": "b5h7x_Mc6kZv",
        "colab": {
          "base_uri": "https://localhost:8080/",
          "height": 231
        },
        "outputId": "76c27e48-5620-453a-eb53-b2cce6bf238a"
      },
      "source": [
        "pddf_pred = df_pred.toPandas().set_index('id')\n",
        "pddf_pred.head()"
      ],
      "execution_count": 36,
      "outputs": [
        {
          "output_type": "execute_result",
          "data": {
            "text/html": [
              "<div>\n",
              "<style scoped>\n",
              "    .dataframe tbody tr th:only-of-type {\n",
              "        vertical-align: middle;\n",
              "    }\n",
              "\n",
              "    .dataframe tbody tr th {\n",
              "        vertical-align: top;\n",
              "    }\n",
              "\n",
              "    .dataframe thead th {\n",
              "        text-align: right;\n",
              "    }\n",
              "</style>\n",
              "<table border=\"1\" class=\"dataframe\">\n",
              "  <thead>\n",
              "    <tr style=\"text-align: right;\">\n",
              "      <th></th>\n",
              "      <th>prediction</th>\n",
              "      <th>adult</th>\n",
              "      <th>budget</th>\n",
              "      <th>popularity</th>\n",
              "      <th>revenue</th>\n",
              "      <th>vote_average</th>\n",
              "      <th>vote_count</th>\n",
              "      <th>score</th>\n",
              "    </tr>\n",
              "    <tr>\n",
              "      <th>id</th>\n",
              "      <th></th>\n",
              "      <th></th>\n",
              "      <th></th>\n",
              "      <th></th>\n",
              "      <th></th>\n",
              "      <th></th>\n",
              "      <th></th>\n",
              "      <th></th>\n",
              "    </tr>\n",
              "  </thead>\n",
              "  <tbody>\n",
              "    <tr>\n",
              "      <th>278.0</th>\n",
              "      <td>8</td>\n",
              "      <td>0.0</td>\n",
              "      <td>25000000.0</td>\n",
              "      <td>51.645405</td>\n",
              "      <td>2.834147e+07</td>\n",
              "      <td>8.5</td>\n",
              "      <td>8358.0</td>\n",
              "      <td>8.445869</td>\n",
              "    </tr>\n",
              "    <tr>\n",
              "      <th>238.0</th>\n",
              "      <td>4</td>\n",
              "      <td>0.0</td>\n",
              "      <td>6000000.0</td>\n",
              "      <td>41.109264</td>\n",
              "      <td>2.450664e+08</td>\n",
              "      <td>8.5</td>\n",
              "      <td>6024.0</td>\n",
              "      <td>8.425440</td>\n",
              "    </tr>\n",
              "    <tr>\n",
              "      <th>19404.0</th>\n",
              "      <td>7</td>\n",
              "      <td>0.0</td>\n",
              "      <td>13200000.0</td>\n",
              "      <td>34.457024</td>\n",
              "      <td>1.000000e+08</td>\n",
              "      <td>9.1</td>\n",
              "      <td>661.0</td>\n",
              "      <td>8.421458</td>\n",
              "    </tr>\n",
              "    <tr>\n",
              "      <th>155.0</th>\n",
              "      <td>1</td>\n",
              "      <td>0.0</td>\n",
              "      <td>185000000.0</td>\n",
              "      <td>123.167259</td>\n",
              "      <td>1.004558e+09</td>\n",
              "      <td>8.3</td>\n",
              "      <td>12269.0</td>\n",
              "      <td>8.265477</td>\n",
              "    </tr>\n",
              "    <tr>\n",
              "      <th>550.0</th>\n",
              "      <td>7</td>\n",
              "      <td>0.0</td>\n",
              "      <td>63000000.0</td>\n",
              "      <td>63.869598</td>\n",
              "      <td>1.008538e+08</td>\n",
              "      <td>8.3</td>\n",
              "      <td>9678.0</td>\n",
              "      <td>8.256385</td>\n",
              "    </tr>\n",
              "  </tbody>\n",
              "</table>\n",
              "</div>"
            ],
            "text/plain": [
              "         prediction  adult       budget  ...  vote_average  vote_count     score\n",
              "id                                       ...                                    \n",
              "278.0             8    0.0   25000000.0  ...           8.5      8358.0  8.445869\n",
              "238.0             4    0.0    6000000.0  ...           8.5      6024.0  8.425440\n",
              "19404.0           7    0.0   13200000.0  ...           9.1       661.0  8.421458\n",
              "155.0             1    0.0  185000000.0  ...           8.3     12269.0  8.265477\n",
              "550.0             7    0.0   63000000.0  ...           8.3      9678.0  8.256385\n",
              "\n",
              "[5 rows x 8 columns]"
            ]
          },
          "metadata": {
            "tags": []
          },
          "execution_count": 36
        }
      ]
    },
    {
      "cell_type": "code",
      "metadata": {
        "id": "kBxyxmFV6kZv",
        "colab": {
          "base_uri": "https://localhost:8080/",
          "height": 575
        },
        "outputId": "80e96735-2347-45d8-a698-d727676eb971"
      },
      "source": [
        "threedee = plt.figure(figsize=(12,10)).gca(projection='3d')\n",
        "threedee.scatter(pddf_pred.budget, pddf_pred.popularity, pddf_pred.vote_average, c=pddf_pred.prediction)\n",
        "threedee.set_xlabel('budget')\n",
        "threedee.set_ylabel('popularity')\n",
        "threedee.set_zlabel('vote_average')\n",
        "plt.show()"
      ],
      "execution_count": 39,
      "outputs": [
        {
          "output_type": "display_data",
          "data": {
            "image/png": "[encoded data removed]",
            "text/plain": [
              "<Figure size 864x720 with 1 Axes>"
            ]
          },
          "metadata": {
            "tags": [],
            "needs_background": "light"
          }
        }
      ]
    },
    {
      "cell_type": "code",
      "metadata": {
        "id": "BqWcDaDHAhlP"
      },
      "source": [
        "predicted_similar = pddf_pred[pddf_pred.prediction == 8].index"
      ],
      "execution_count": 46,
      "outputs": []
    },
    {
      "cell_type": "code",
      "metadata": {
        "id": "4txYaziP6kZw",
        "colab": {
          "base_uri": "https://localhost:8080/",
          "height": 576
        },
        "outputId": "58b3ebae-d7e8-4513-d0d6-57d5e12cd727"
      },
      "source": [
        "data[data.index.isin(predicted_similar)].head()"
      ],
      "execution_count": 53,
      "outputs": [
        {
          "output_type": "execute_result",
          "data": {
            "text/html": [
              "<div>\n",
              "<style scoped>\n",
              "    .dataframe tbody tr th:only-of-type {\n",
              "        vertical-align: middle;\n",
              "    }\n",
              "\n",
              "    .dataframe tbody tr th {\n",
              "        vertical-align: top;\n",
              "    }\n",
              "\n",
              "    .dataframe thead th {\n",
              "        text-align: right;\n",
              "    }\n",
              "</style>\n",
              "<table border=\"1\" class=\"dataframe\">\n",
              "  <thead>\n",
              "    <tr style=\"text-align: right;\">\n",
              "      <th></th>\n",
              "      <th>adult</th>\n",
              "      <th>budget</th>\n",
              "      <th>genres</th>\n",
              "      <th>id</th>\n",
              "      <th>imdb_id</th>\n",
              "      <th>original_language</th>\n",
              "      <th>original_title</th>\n",
              "      <th>overview</th>\n",
              "      <th>popularity</th>\n",
              "      <th>production_companies</th>\n",
              "      <th>production_countries</th>\n",
              "      <th>release_date</th>\n",
              "      <th>revenue</th>\n",
              "      <th>runtime</th>\n",
              "      <th>spoken_languages</th>\n",
              "      <th>status</th>\n",
              "      <th>title</th>\n",
              "      <th>vote_average</th>\n",
              "      <th>vote_count</th>\n",
              "      <th>cast</th>\n",
              "      <th>crew</th>\n",
              "      <th>score</th>\n",
              "    </tr>\n",
              "  </thead>\n",
              "  <tbody>\n",
              "    <tr>\n",
              "      <th>522</th>\n",
              "      <td>False</td>\n",
              "      <td>22000000</td>\n",
              "      <td>Drama, History, War</td>\n",
              "      <td>424.0</td>\n",
              "      <td>tt0108052</td>\n",
              "      <td>en</td>\n",
              "      <td>Schindler's List</td>\n",
              "      <td>The true story of how businessman Oskar Schind...</td>\n",
              "      <td>41.7251</td>\n",
              "      <td>Universal Pictures, Amblin Entertainment</td>\n",
              "      <td>United States of America</td>\n",
              "      <td>1993-11-29</td>\n",
              "      <td>3.213656e+08</td>\n",
              "      <td>195.0</td>\n",
              "      <td>Deutsch, Polski, עִב, English</td>\n",
              "      <td>Released</td>\n",
              "      <td>Schindler's List</td>\n",
              "      <td>8.3</td>\n",
              "      <td>4436.0</td>\n",
              "      <td>[{'cast_id': 14, 'character': 'Oskar Schindler...</td>\n",
              "      <td>[{'credit_id': '52fe4241c3a36847f801024d', 'de...</td>\n",
              "      <td>8.206640</td>\n",
              "    </tr>\n",
              "    <tr>\n",
              "      <th>1245</th>\n",
              "      <td>False</td>\n",
              "      <td>2000000</td>\n",
              "      <td>Comedy</td>\n",
              "      <td>914.0</td>\n",
              "      <td>tt0032553</td>\n",
              "      <td>en</td>\n",
              "      <td>The Great Dictator</td>\n",
              "      <td>Dictator Adenoid Hynkel tries to expand his em...</td>\n",
              "      <td>9.24175</td>\n",
              "      <td>United Artists, Roy Export Company Establishment</td>\n",
              "      <td>United States of America</td>\n",
              "      <td>1940-10-15</td>\n",
              "      <td>1.100000e+07</td>\n",
              "      <td>125.0</td>\n",
              "      <td>English, Esperanto</td>\n",
              "      <td>Released</td>\n",
              "      <td>The Great Dictator</td>\n",
              "      <td>8.1</td>\n",
              "      <td>756.0</td>\n",
              "      <td>[{'cast_id': 13, 'character': 'Hynkel - Dictat...</td>\n",
              "      <td>[{'credit_id': '52fe428cc3a36847f8027429', 'de...</td>\n",
              "      <td>7.666503</td>\n",
              "    </tr>\n",
              "    <tr>\n",
              "      <th>10878</th>\n",
              "      <td>False</td>\n",
              "      <td>54000000</td>\n",
              "      <td>Action, Thriller, Fantasy</td>\n",
              "      <td>752.0</td>\n",
              "      <td>tt0434409</td>\n",
              "      <td>en</td>\n",
              "      <td>V for Vendetta</td>\n",
              "      <td>In a world in which Great Britain has become a...</td>\n",
              "      <td>20.2144</td>\n",
              "      <td>Studio Babelsberg, DC Comics, Virtual Studios...</td>\n",
              "      <td>Germany, United Kingdom, United States of Ame...</td>\n",
              "      <td>2006-03-15</td>\n",
              "      <td>1.325110e+08</td>\n",
              "      <td>132.0</td>\n",
              "      <td>English</td>\n",
              "      <td>Released</td>\n",
              "      <td>V for Vendetta</td>\n",
              "      <td>7.7</td>\n",
              "      <td>4562.0</td>\n",
              "      <td>[{'cast_id': 23, 'character': 'Evey Hammond', ...</td>\n",
              "      <td>[{'credit_id': '52fe4270c3a36847f801ebf5', 'de...</td>\n",
              "      <td>7.629461</td>\n",
              "    </tr>\n",
              "    <tr>\n",
              "      <th>1909</th>\n",
              "      <td>False</td>\n",
              "      <td>92620000</td>\n",
              "      <td>Drama</td>\n",
              "      <td>19.0</td>\n",
              "      <td>tt0017136</td>\n",
              "      <td>de</td>\n",
              "      <td>Metropolis</td>\n",
              "      <td>In a futuristic city sharply divided between t...</td>\n",
              "      <td>14.4879</td>\n",
              "      <td>Paramount Pictures, Universum Film</td>\n",
              "      <td>Germany</td>\n",
              "      <td>1927-01-10</td>\n",
              "      <td>6.504220e+05</td>\n",
              "      <td>153.0</td>\n",
              "      <td>No Language</td>\n",
              "      <td>Released</td>\n",
              "      <td>Metropolis</td>\n",
              "      <td>8.0</td>\n",
              "      <td>666.0</td>\n",
              "      <td>[{'cast_id': 10, 'character': 'Maria', 'credit...</td>\n",
              "      <td>[{'credit_id': '52fe420fc3a36847f8000c55', 'de...</td>\n",
              "      <td>7.538641</td>\n",
              "    </tr>\n",
              "    <tr>\n",
              "      <th>15413</th>\n",
              "      <td>False</td>\n",
              "      <td>200000000</td>\n",
              "      <td>Animation, Family, Comedy</td>\n",
              "      <td>10193.0</td>\n",
              "      <td>tt0435761</td>\n",
              "      <td>en</td>\n",
              "      <td>Toy Story 3</td>\n",
              "      <td>Woody, Buzz, and the rest of Andy's toys haven...</td>\n",
              "      <td>16.9665</td>\n",
              "      <td>Walt Disney Pictures, Pixar Animation Studios</td>\n",
              "      <td>United States of America</td>\n",
              "      <td>2010-06-16</td>\n",
              "      <td>1.066970e+09</td>\n",
              "      <td>103.0</td>\n",
              "      <td>English, Español</td>\n",
              "      <td>Released</td>\n",
              "      <td>Toy Story 3</td>\n",
              "      <td>7.6</td>\n",
              "      <td>4710.0</td>\n",
              "      <td>[{'cast_id': 6, 'character': 'Woody (voice)', ...</td>\n",
              "      <td>[{'credit_id': '5770143fc3a3683733000f3a', 'de...</td>\n",
              "      <td>7.534891</td>\n",
              "    </tr>\n",
              "  </tbody>\n",
              "</table>\n",
              "</div>"
            ],
            "text/plain": [
              "       adult  ...     score\n",
              "522    False  ...  8.206640\n",
              "1245   False  ...  7.666503\n",
              "10878  False  ...  7.629461\n",
              "1909   False  ...  7.538641\n",
              "15413  False  ...  7.534891\n",
              "\n",
              "[5 rows x 22 columns]"
            ]
          },
          "metadata": {
            "tags": []
          },
          "execution_count": 53
        }
      ]
    },
    {
      "cell_type": "code",
      "metadata": {
        "colab": {
          "base_uri": "https://localhost:8080/"
        },
        "id": "3ujAmFBnBihH",
        "outputId": "1e49e7e5-1534-4179-e22a-07172949e4e6"
      },
      "source": [
        ""
      ],
      "execution_count": 51,
      "outputs": [
        {
          "output_type": "execute_result",
          "data": {
            "text/plain": [
              "Index(['id', 'adult', 'budget', 'popularity', 'revenue', 'vote_average',\n",
              "       'vote_count', 'score'],\n",
              "      dtype='object')"
            ]
          },
          "metadata": {
            "tags": []
          },
          "execution_count": 51
        }
      ]
    }
  ]
}